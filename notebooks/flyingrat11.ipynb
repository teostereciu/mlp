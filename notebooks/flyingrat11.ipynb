{
 "cells": [
  {
   "cell_type": "markdown",
   "source": [
    "See if things are configured correctly\n",
    "So far the kernel works -> python version 3.9\n",
    "importing necessary packages\n",
    "loading data -> works\n",
    "setting up data->class lists"
   ],
   "metadata": {
    "collapsed": false
   },
   "id": "66adba4dc4d25f3d"
  },
  {
   "cell_type": "code",
   "execution_count": 1,
   "outputs": [
    {
     "name": "stdout",
     "output_type": "stream",
     "text": [
      "Hello, World!\n"
     ]
    }
   ],
   "source": [
    "#seems like it's printing\n",
    "print(\"Hello, World!\")"
   ],
   "metadata": {
    "collapsed": false,
    "ExecuteTime": {
     "end_time": "2023-11-21T16:01:37.390341Z",
     "start_time": "2023-11-21T16:01:37.387728Z"
    }
   },
   "id": "e62151f3bf6ca078"
  },
  {
   "cell_type": "code",
   "execution_count": 6,
   "outputs": [],
   "source": [
    "import numpy as np\n",
    "import pandas as pd\n",
    "import os\n",
    "from PIL import Image"
   ],
   "metadata": {
    "collapsed": false,
    "ExecuteTime": {
     "end_time": "2023-11-21T16:28:20.779434Z",
     "start_time": "2023-11-21T16:28:20.775296Z"
    }
   },
   "id": "6bfcd26cc68744aa"
  },
  {
   "cell_type": "code",
   "execution_count": 22,
   "outputs": [],
   "source": [
    "#include the functions\n",
    "%run 'functions.ipynb'"
   ],
   "metadata": {
    "collapsed": false,
    "ExecuteTime": {
     "end_time": "2023-11-21T16:53:23.220645Z",
     "start_time": "2023-11-21T16:53:23.104997Z"
    }
   },
   "id": "f9d6c0a943c49eef"
  },
  {
   "cell_type": "code",
   "execution_count": 18,
   "outputs": [],
   "source": [
    "#image data directory\n",
    "data_dir = \"../data/asl_data/\"\n",
    "\n",
    "#directory for train and test\n",
    "train_dir = os.path.join(data_dir,\"asl_alphabet_train\")\n",
    "test_dir = os.path.join(data_dir,\"asl_alphabet_test\")"
   ],
   "metadata": {
    "collapsed": false,
    "ExecuteTime": {
     "end_time": "2023-11-21T16:51:49.214982Z",
     "start_time": "2023-11-21T16:51:49.093760Z"
    }
   },
   "id": "bc42685aad728206"
  },
  {
   "cell_type": "code",
   "execution_count": null,
   "outputs": [],
   "source": [
    "#test load and show one image\n",
    "image_try = os.path.join(train_dir,\"A/A1.jpg\")\n",
    "try_show_image = Image.open(image_try)\n",
    "try_show_image.show() ##worked in a pop-up window"
   ],
   "metadata": {
    "collapsed": false
   },
   "id": "e97b523afb7cd696"
  },
  {
   "cell_type": "code",
   "execution_count": 59,
   "outputs": [],
   "source": [
    "#class dictionary\n",
    "categories = {  0: \"A\",\n",
    "                1: \"B\",\n",
    "                2: \"C\",\n",
    "                3: \"D\",\n",
    "                4: \"E\",\n",
    "                5: \"F\",\n",
    "                6: \"G\",\n",
    "                7: \"H\",\n",
    "                8: \"I\",\n",
    "                9: \"G\",\n",
    "                10: \"K\",\n",
    "                11: \"L\",\n",
    "                12: \"M\",\n",
    "                13: \"N\",\n",
    "                14: \"O\",\n",
    "                15: \"P\",\n",
    "                16: \"Q\",\n",
    "                17: \"R\",\n",
    "                18: \"S\",\n",
    "                19: \"T\",\n",
    "                20: \"U\",\n",
    "                21: \"V\",\n",
    "                22: \"W\",\n",
    "                23: \"X\",\n",
    "                24: \"Y\",\n",
    "            }"
   ],
   "metadata": {
    "collapsed": false,
    "ExecuteTime": {
     "end_time": "2023-11-21T17:34:44.455370Z",
     "start_time": "2023-11-21T17:34:44.450213Z"
    }
   },
   "id": "e400c3df7d695edc"
  },
  {
   "cell_type": "code",
   "execution_count": 64,
   "outputs": [],
   "source": [
    "#create lists\n",
    "images = [] ##image names\n",
    "target = [] ##corresponding classes\n",
    "for category in categories:\n",
    "    files = os.listdir(os.path.join(train_dir, categories[category]))\n",
    "    for file in files:\n",
    "        images.append(file)\n",
    "        target.append(category)\n",
    "df = pd.DataFrame({\"filename\": images, \"category\": target})\n",
    "\n",
    "#shuffle the dataframe\n",
    "shuffled_df = df.sample(frac=1).reset_index(drop=True)"
   ],
   "metadata": {
    "collapsed": false,
    "ExecuteTime": {
     "end_time": "2023-11-21T17:35:18.638629Z",
     "start_time": "2023-11-21T17:35:18.569637Z"
    }
   },
   "id": "9423affbcb0c8aa6"
  },
  {
   "cell_type": "code",
   "execution_count": 65,
   "outputs": [
    {
     "name": "stdout",
     "output_type": "stream",
     "text": [
      "<class 'pandas.core.frame.DataFrame'>\n",
      "RangeIndex: 75000 entries, 0 to 74999\n",
      "Data columns (total 2 columns):\n",
      " #   Column    Non-Null Count  Dtype \n",
      "---  ------    --------------  ----- \n",
      " 0   filename  75000 non-null  object\n",
      " 1   category  75000 non-null  int64 \n",
      "dtypes: int64(1), object(1)\n",
      "memory usage: 1.1+ MB\n"
     ]
    },
    {
     "data": {
      "text/plain": "    filename  category\n0    A25.jpg         0\n1  A2286.jpg         0\n2  A1957.jpg         0\n3   A618.jpg         0\n4  A1943.jpg         0",
      "text/html": "<div>\n<style scoped>\n    .dataframe tbody tr th:only-of-type {\n        vertical-align: middle;\n    }\n\n    .dataframe tbody tr th {\n        vertical-align: top;\n    }\n\n    .dataframe thead th {\n        text-align: right;\n    }\n</style>\n<table border=\"1\" class=\"dataframe\">\n  <thead>\n    <tr style=\"text-align: right;\">\n      <th></th>\n      <th>filename</th>\n      <th>category</th>\n    </tr>\n  </thead>\n  <tbody>\n    <tr>\n      <th>0</th>\n      <td>A25.jpg</td>\n      <td>0</td>\n    </tr>\n    <tr>\n      <th>1</th>\n      <td>A2286.jpg</td>\n      <td>0</td>\n    </tr>\n    <tr>\n      <th>2</th>\n      <td>A1957.jpg</td>\n      <td>0</td>\n    </tr>\n    <tr>\n      <th>3</th>\n      <td>A618.jpg</td>\n      <td>0</td>\n    </tr>\n    <tr>\n      <th>4</th>\n      <td>A1943.jpg</td>\n      <td>0</td>\n    </tr>\n  </tbody>\n</table>\n</div>"
     },
     "execution_count": 65,
     "metadata": {},
     "output_type": "execute_result"
    }
   ],
   "source": [
    "df.info()\n",
    "df.head()"
   ],
   "metadata": {
    "collapsed": false,
    "ExecuteTime": {
     "end_time": "2023-11-21T17:35:20.174654Z",
     "start_time": "2023-11-21T17:35:20.164391Z"
    }
   },
   "id": "8953b28a7c459a63"
  },
  {
   "cell_type": "code",
   "execution_count": 66,
   "outputs": [
    {
     "name": "stdout",
     "output_type": "stream",
     "text": [
      "<class 'pandas.core.frame.DataFrame'>\n",
      "RangeIndex: 75000 entries, 0 to 74999\n",
      "Data columns (total 2 columns):\n",
      " #   Column    Non-Null Count  Dtype \n",
      "---  ------    --------------  ----- \n",
      " 0   filename  75000 non-null  object\n",
      " 1   category  75000 non-null  int64 \n",
      "dtypes: int64(1), object(1)\n",
      "memory usage: 1.1+ MB\n"
     ]
    },
    {
     "data": {
      "text/plain": "    filename  category\n0  O2595.jpg        14\n1  R2791.jpg        17\n2   U237.jpg        20\n3  G1167.jpg         6\n4   T431.jpg        19",
      "text/html": "<div>\n<style scoped>\n    .dataframe tbody tr th:only-of-type {\n        vertical-align: middle;\n    }\n\n    .dataframe tbody tr th {\n        vertical-align: top;\n    }\n\n    .dataframe thead th {\n        text-align: right;\n    }\n</style>\n<table border=\"1\" class=\"dataframe\">\n  <thead>\n    <tr style=\"text-align: right;\">\n      <th></th>\n      <th>filename</th>\n      <th>category</th>\n    </tr>\n  </thead>\n  <tbody>\n    <tr>\n      <th>0</th>\n      <td>O2595.jpg</td>\n      <td>14</td>\n    </tr>\n    <tr>\n      <th>1</th>\n      <td>R2791.jpg</td>\n      <td>17</td>\n    </tr>\n    <tr>\n      <th>2</th>\n      <td>U237.jpg</td>\n      <td>20</td>\n    </tr>\n    <tr>\n      <th>3</th>\n      <td>G1167.jpg</td>\n      <td>6</td>\n    </tr>\n    <tr>\n      <th>4</th>\n      <td>T431.jpg</td>\n      <td>19</td>\n    </tr>\n  </tbody>\n</table>\n</div>"
     },
     "execution_count": 66,
     "metadata": {},
     "output_type": "execute_result"
    }
   ],
   "source": [
    "shuffled_df.info()\n",
    "shuffled_df.head()"
   ],
   "metadata": {
    "collapsed": false,
    "ExecuteTime": {
     "end_time": "2023-11-21T17:35:21.638605Z",
     "start_time": "2023-11-21T17:35:21.631910Z"
    }
   },
   "id": "c27dd2394f5238e7"
  },
  {
   "cell_type": "code",
   "execution_count": null,
   "outputs": [],
   "source": [],
   "metadata": {
    "collapsed": false
   },
   "id": "8bf5ed7582e3cd64"
  }
 ],
 "metadata": {
  "kernelspec": {
   "name": "mlp_uf_py3_9",
   "language": "python",
   "display_name": "mlp_uf_py3_9"
  },
  "language_info": {
   "codemirror_mode": {
    "name": "ipython",
    "version": 2
   },
   "file_extension": ".py",
   "mimetype": "text/x-python",
   "name": "python",
   "nbconvert_exporter": "python",
   "pygments_lexer": "ipython2",
   "version": "2.7.6"
  }
 },
 "nbformat": 4,
 "nbformat_minor": 5
}
