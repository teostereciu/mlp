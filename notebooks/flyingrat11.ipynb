{
 "cells": [
  {
   "cell_type": "markdown",
   "id": "66adba4dc4d25f3d",
   "metadata": {},
   "source": [
    "See if things are configured correctly\n",
    "So far the kernel works -> python version 3.9\n",
    "importing necessary packages\n",
    "loading data -> works\n",
    "setting up data->class lists"
   ]
  },
  {
   "cell_type": "code",
   "execution_count": 57,
   "id": "e62151f3bf6ca078",
   "metadata": {
    "ExecuteTime": {
     "end_time": "2023-12-13T00:11:18.478039Z",
     "start_time": "2023-12-13T00:11:18.472793Z"
    }
   },
   "outputs": [
    {
     "name": "stdout",
     "output_type": "stream",
     "text": [
      "Hello, World!\n"
     ]
    }
   ],
   "source": [
    "#seems like it's printing\n",
    "print(\"Hello, World!\")"
   ]
  },
  {
   "cell_type": "code",
   "execution_count": 58,
   "id": "6bfcd26cc68744aa",
   "metadata": {
    "ExecuteTime": {
     "end_time": "2023-12-13T00:11:19.558780Z",
     "start_time": "2023-12-13T00:11:19.552542Z"
    }
   },
   "outputs": [],
   "source": [
    "import numpy as np\n",
    "import pandas as pd\n",
    "import os\n",
    "from PIL import Image\n",
    "import matplotlib.pyplot as plt\n",
    "\n",
    "RAND_SEED = 21"
   ]
  },
  {
   "cell_type": "markdown",
   "source": [
    "## import data"
   ],
   "metadata": {
    "collapsed": false
   },
   "id": "ccb1e9a65492270f"
  },
  {
   "cell_type": "code",
   "execution_count": 59,
   "id": "bc42685aad728206",
   "metadata": {
    "ExecuteTime": {
     "end_time": "2023-12-13T00:11:21.202351Z",
     "start_time": "2023-12-13T00:11:21.195435Z"
    }
   },
   "outputs": [],
   "source": [
    "#image data directory\n",
    "data_dir = \"../data/asl_data/\"\n",
    "\n",
    "#directory for train and test\n",
    "train_dir = os.path.join(data_dir,\"asl_alphabet_train\")\n",
    "test_dir = os.path.join(data_dir,\"asl_alphabet_test\")"
   ]
  },
  {
   "cell_type": "code",
   "execution_count": 60,
   "id": "e97b523afb7cd696",
   "metadata": {
    "ExecuteTime": {
     "end_time": "2023-12-13T00:11:25.305092Z",
     "start_time": "2023-12-13T00:11:25.257562Z"
    }
   },
   "outputs": [],
   "source": [
    "#test load and show one image\n",
    "image_try = os.path.join(train_dir,\"A/A1.jpg\")\n",
    "try_show_image = Image.open(image_try)\n",
    "try_show_image.show() ##worked in a pop-up window"
   ]
  },
  {
   "cell_type": "code",
   "execution_count": 61,
   "id": "e400c3df7d695edc",
   "metadata": {
    "ExecuteTime": {
     "end_time": "2023-12-13T00:11:28.491396Z",
     "start_time": "2023-12-13T00:11:28.484654Z"
    }
   },
   "outputs": [],
   "source": [
    "#class dictionary\n",
    "categories = {  0: \"A\",\n",
    "                1: \"B\",\n",
    "                2: \"C\",\n",
    "                3: \"D\",\n",
    "                4: \"E\",\n",
    "                5: \"F\",\n",
    "                6: \"G\",\n",
    "                7: \"H\",\n",
    "                8: \"I\",\n",
    "                9: \"K\",\n",
    "                10: \"L\",\n",
    "                11: \"M\",\n",
    "                12: \"N\",\n",
    "                13: \"O\",\n",
    "                14: \"P\",\n",
    "                15: \"Q\",\n",
    "                16: \"R\",\n",
    "                17: \"S\",\n",
    "                18: \"T\",\n",
    "                19: \"U\",\n",
    "                20: \"V\",\n",
    "                21: \"W\",\n",
    "                22: \"X\",\n",
    "                23: \"Y\",\n",
    "            }"
   ]
  },
  {
   "cell_type": "code",
   "execution_count": 62,
   "id": "9423affbcb0c8aa6",
   "metadata": {
    "ExecuteTime": {
     "end_time": "2023-12-13T00:11:32.923939Z",
     "start_time": "2023-12-13T00:11:32.710431Z"
    }
   },
   "outputs": [],
   "source": [
    "#create lists\n",
    "images = [] ##image names\n",
    "target = [] ##corresponding classes\n",
    "for category in categories:\n",
    "    files = os.listdir(os.path.join(train_dir, categories[category]))\n",
    "    for file in files:\n",
    "        file_path = os.path.join(train_dir, categories[category], file)\n",
    "        images.append(file_path)\n",
    "        target.append(category)\n",
    "df = pd.DataFrame({\"filename\": images, \"category\": target})\n",
    "\n",
    "#shuffle the dataframe\n",
    "shuffled_df = df.sample(frac=1).reset_index(drop=True)"
   ]
  },
  {
   "cell_type": "code",
   "execution_count": 63,
   "id": "8953b28a7c459a63",
   "metadata": {
    "ExecuteTime": {
     "end_time": "2023-12-13T00:11:35.837430Z",
     "start_time": "2023-12-13T00:11:35.827897Z"
    }
   },
   "outputs": [
    {
     "name": "stdout",
     "output_type": "stream",
     "text": [
      "<class 'pandas.core.frame.DataFrame'>\n",
      "RangeIndex: 72000 entries, 0 to 71999\n",
      "Data columns (total 2 columns):\n",
      " #   Column    Non-Null Count  Dtype \n",
      "---  ------    --------------  ----- \n",
      " 0   filename  72000 non-null  object\n",
      " 1   category  72000 non-null  int64 \n",
      "dtypes: int64(1), object(1)\n",
      "memory usage: 1.1+ MB\n"
     ]
    },
    {
     "data": {
      "text/plain": "                                          filename  category\n0    ../data/asl_data/asl_alphabet_train/A/A25.jpg         0\n1  ../data/asl_data/asl_alphabet_train/A/A2286.jpg         0\n2  ../data/asl_data/asl_alphabet_train/A/A1957.jpg         0\n3   ../data/asl_data/asl_alphabet_train/A/A618.jpg         0\n4  ../data/asl_data/asl_alphabet_train/A/A1943.jpg         0",
      "text/html": "<div>\n<style scoped>\n    .dataframe tbody tr th:only-of-type {\n        vertical-align: middle;\n    }\n\n    .dataframe tbody tr th {\n        vertical-align: top;\n    }\n\n    .dataframe thead th {\n        text-align: right;\n    }\n</style>\n<table border=\"1\" class=\"dataframe\">\n  <thead>\n    <tr style=\"text-align: right;\">\n      <th></th>\n      <th>filename</th>\n      <th>category</th>\n    </tr>\n  </thead>\n  <tbody>\n    <tr>\n      <th>0</th>\n      <td>../data/asl_data/asl_alphabet_train/A/A25.jpg</td>\n      <td>0</td>\n    </tr>\n    <tr>\n      <th>1</th>\n      <td>../data/asl_data/asl_alphabet_train/A/A2286.jpg</td>\n      <td>0</td>\n    </tr>\n    <tr>\n      <th>2</th>\n      <td>../data/asl_data/asl_alphabet_train/A/A1957.jpg</td>\n      <td>0</td>\n    </tr>\n    <tr>\n      <th>3</th>\n      <td>../data/asl_data/asl_alphabet_train/A/A618.jpg</td>\n      <td>0</td>\n    </tr>\n    <tr>\n      <th>4</th>\n      <td>../data/asl_data/asl_alphabet_train/A/A1943.jpg</td>\n      <td>0</td>\n    </tr>\n  </tbody>\n</table>\n</div>"
     },
     "execution_count": 63,
     "metadata": {},
     "output_type": "execute_result"
    }
   ],
   "source": [
    "df.info()\n",
    "df.head()"
   ]
  },
  {
   "cell_type": "code",
   "execution_count": 64,
   "id": "c27dd2394f5238e7",
   "metadata": {
    "ExecuteTime": {
     "end_time": "2023-12-13T00:11:44.561441Z",
     "start_time": "2023-12-13T00:11:44.545755Z"
    }
   },
   "outputs": [
    {
     "name": "stdout",
     "output_type": "stream",
     "text": [
      "<class 'pandas.core.frame.DataFrame'>\n",
      "RangeIndex: 72000 entries, 0 to 71999\n",
      "Data columns (total 2 columns):\n",
      " #   Column    Non-Null Count  Dtype \n",
      "---  ------    --------------  ----- \n",
      " 0   filename  72000 non-null  object\n",
      " 1   category  72000 non-null  int64 \n",
      "dtypes: int64(1), object(1)\n",
      "memory usage: 1.1+ MB\n"
     ]
    },
    {
     "data": {
      "text/plain": "                                          filename  category\n0  ../data/asl_data/asl_alphabet_train/R/R1825.jpg        16\n1  ../data/asl_data/asl_alphabet_train/T/T2177.jpg        18\n2  ../data/asl_data/asl_alphabet_train/V/V2423.jpg        20\n3  ../data/asl_data/asl_alphabet_train/F/F2670.jpg         5\n4   ../data/asl_data/asl_alphabet_train/Q/Q182.jpg        15",
      "text/html": "<div>\n<style scoped>\n    .dataframe tbody tr th:only-of-type {\n        vertical-align: middle;\n    }\n\n    .dataframe tbody tr th {\n        vertical-align: top;\n    }\n\n    .dataframe thead th {\n        text-align: right;\n    }\n</style>\n<table border=\"1\" class=\"dataframe\">\n  <thead>\n    <tr style=\"text-align: right;\">\n      <th></th>\n      <th>filename</th>\n      <th>category</th>\n    </tr>\n  </thead>\n  <tbody>\n    <tr>\n      <th>0</th>\n      <td>../data/asl_data/asl_alphabet_train/R/R1825.jpg</td>\n      <td>16</td>\n    </tr>\n    <tr>\n      <th>1</th>\n      <td>../data/asl_data/asl_alphabet_train/T/T2177.jpg</td>\n      <td>18</td>\n    </tr>\n    <tr>\n      <th>2</th>\n      <td>../data/asl_data/asl_alphabet_train/V/V2423.jpg</td>\n      <td>20</td>\n    </tr>\n    <tr>\n      <th>3</th>\n      <td>../data/asl_data/asl_alphabet_train/F/F2670.jpg</td>\n      <td>5</td>\n    </tr>\n    <tr>\n      <th>4</th>\n      <td>../data/asl_data/asl_alphabet_train/Q/Q182.jpg</td>\n      <td>15</td>\n    </tr>\n  </tbody>\n</table>\n</div>"
     },
     "execution_count": 64,
     "metadata": {},
     "output_type": "execute_result"
    }
   ],
   "source": [
    "shuffled_df.info()\n",
    "shuffled_df.head()"
   ]
  },
  {
   "cell_type": "markdown",
   "source": [
    "## split"
   ],
   "metadata": {
    "collapsed": false
   },
   "id": "f12e4c4ac13e41e0"
  },
  {
   "cell_type": "code",
   "execution_count": 79,
   "outputs": [
    {
     "name": "stderr",
     "output_type": "stream",
     "text": [
      "/Users/ygao/anaconda3/envs/keras_env/lib/python3.11/site-packages/numpy/core/fromnumeric.py:57: FutureWarning: 'DataFrame.swapaxes' is deprecated and will be removed in a future version. Please use 'DataFrame.transpose' instead.\n",
      "  return bound(*args, **kwds)\n"
     ]
    },
    {
     "data": {
      "text/plain": "14400"
     },
     "execution_count": 79,
     "metadata": {},
     "output_type": "execute_result"
    }
   ],
   "source": [
    "#split into 5 subsets for future cross validation\n",
    "split_data = np.array_split(shuffled_df, 5)\n",
    "sub_df1, sub_df2, sub_df3, sub_df4, sub_df5 = split_data\n",
    "len(sub_df1)"
   ],
   "metadata": {
    "collapsed": false,
    "ExecuteTime": {
     "start_time": "2023-12-13T00:20:42.592304Z"
    }
   },
   "id": "8bf5ed7582e3cd64"
  },
  {
   "cell_type": "code",
   "execution_count": 81,
   "outputs": [
    {
     "name": "stdout",
     "output_type": "stream",
     "text": [
      "<class 'pandas.core.frame.DataFrame'>\n",
      "RangeIndex: 14400 entries, 57600 to 71999\n",
      "Data columns (total 2 columns):\n",
      " #   Column    Non-Null Count  Dtype \n",
      "---  ------    --------------  ----- \n",
      " 0   filename  14400 non-null  object\n",
      " 1   category  14400 non-null  int64 \n",
      "dtypes: int64(1), object(1)\n",
      "memory usage: 225.1+ KB\n"
     ]
    },
    {
     "data": {
      "text/plain": "                                              filename  category\n57600  ../data/asl_data/asl_alphabet_train/Y/Y2232.jpg        23\n57601  ../data/asl_data/asl_alphabet_train/O/O2269.jpg        13\n57602  ../data/asl_data/asl_alphabet_train/C/C1723.jpg         2\n57603    ../data/asl_data/asl_alphabet_train/T/T41.jpg        18\n57604  ../data/asl_data/asl_alphabet_train/E/E2762.jpg         4",
      "text/html": "<div>\n<style scoped>\n    .dataframe tbody tr th:only-of-type {\n        vertical-align: middle;\n    }\n\n    .dataframe tbody tr th {\n        vertical-align: top;\n    }\n\n    .dataframe thead th {\n        text-align: right;\n    }\n</style>\n<table border=\"1\" class=\"dataframe\">\n  <thead>\n    <tr style=\"text-align: right;\">\n      <th></th>\n      <th>filename</th>\n      <th>category</th>\n    </tr>\n  </thead>\n  <tbody>\n    <tr>\n      <th>57600</th>\n      <td>../data/asl_data/asl_alphabet_train/Y/Y2232.jpg</td>\n      <td>23</td>\n    </tr>\n    <tr>\n      <th>57601</th>\n      <td>../data/asl_data/asl_alphabet_train/O/O2269.jpg</td>\n      <td>13</td>\n    </tr>\n    <tr>\n      <th>57602</th>\n      <td>../data/asl_data/asl_alphabet_train/C/C1723.jpg</td>\n      <td>2</td>\n    </tr>\n    <tr>\n      <th>57603</th>\n      <td>../data/asl_data/asl_alphabet_train/T/T41.jpg</td>\n      <td>18</td>\n    </tr>\n    <tr>\n      <th>57604</th>\n      <td>../data/asl_data/asl_alphabet_train/E/E2762.jpg</td>\n      <td>4</td>\n    </tr>\n  </tbody>\n</table>\n</div>"
     },
     "execution_count": 81,
     "metadata": {},
     "output_type": "execute_result"
    }
   ],
   "source": [
    "sub_df5.info()\n",
    "sub_df5.head()"
   ],
   "metadata": {
    "collapsed": false,
    "ExecuteTime": {
     "end_time": "2023-12-13T00:21:34.224600Z",
     "start_time": "2023-12-13T00:21:34.214804Z"
    }
   },
   "id": "acd986781155c1a2"
  },
  {
   "cell_type": "markdown",
   "source": [
    "## processing no.5 out of 5 total as train"
   ],
   "metadata": {
    "collapsed": false
   },
   "id": "a82e5777e26436e9"
  },
  {
   "cell_type": "code",
   "execution_count": 82,
   "outputs": [],
   "source": [
    "def image_to_grey_array(filename):\n",
    "    image = Image.open(filename).convert('L')\n",
    "    return np.array(image).flatten()"
   ],
   "metadata": {
    "collapsed": false,
    "ExecuteTime": {
     "start_time": "2023-12-13T00:21:48.358454Z"
    }
   },
   "id": "2f1dd8a51398761e"
  },
  {
   "cell_type": "code",
   "execution_count": 83,
   "outputs": [],
   "source": [
    "sub_df5['greyscale'] = sub_df5['filename'].apply(image_to_grey_array)\n",
    "sub_df5 = sub_df5.rename(index = lambda x: x-60000)"
   ],
   "metadata": {
    "collapsed": false,
    "ExecuteTime": {
     "end_time": "2023-12-13T00:21:57.492295Z",
     "start_time": "2023-12-13T00:21:49.679196Z"
    }
   },
   "id": "2a5c83078e54f903"
  },
  {
   "cell_type": "code",
   "execution_count": 84,
   "outputs": [
    {
     "data": {
      "text/plain": "                                              filename  category  \\\n-2400  ../data/asl_data/asl_alphabet_train/Y/Y2232.jpg        23   \n-2399  ../data/asl_data/asl_alphabet_train/O/O2269.jpg        13   \n-2398  ../data/asl_data/asl_alphabet_train/C/C1723.jpg         2   \n-2397    ../data/asl_data/asl_alphabet_train/T/T41.jpg        18   \n-2396  ../data/asl_data/asl_alphabet_train/E/E2762.jpg         4   \n\n                                               greyscale  \n-2400  [33, 31, 31, 30, 31, 33, 31, 31, 31, 31, 30, 3...  \n-2399  [31, 30, 29, 32, 32, 33, 32, 30, 30, 30, 30, 3...  \n-2398  [32, 32, 29, 31, 30, 32, 33, 33, 32, 32, 31, 3...  \n-2397  [30, 33, 29, 30, 29, 31, 30, 32, 31, 31, 31, 3...  \n-2396  [32, 31, 29, 30, 30, 33, 32, 31, 31, 30, 30, 3...  ",
      "text/html": "<div>\n<style scoped>\n    .dataframe tbody tr th:only-of-type {\n        vertical-align: middle;\n    }\n\n    .dataframe tbody tr th {\n        vertical-align: top;\n    }\n\n    .dataframe thead th {\n        text-align: right;\n    }\n</style>\n<table border=\"1\" class=\"dataframe\">\n  <thead>\n    <tr style=\"text-align: right;\">\n      <th></th>\n      <th>filename</th>\n      <th>category</th>\n      <th>greyscale</th>\n    </tr>\n  </thead>\n  <tbody>\n    <tr>\n      <th>-2400</th>\n      <td>../data/asl_data/asl_alphabet_train/Y/Y2232.jpg</td>\n      <td>23</td>\n      <td>[33, 31, 31, 30, 31, 33, 31, 31, 31, 31, 30, 3...</td>\n    </tr>\n    <tr>\n      <th>-2399</th>\n      <td>../data/asl_data/asl_alphabet_train/O/O2269.jpg</td>\n      <td>13</td>\n      <td>[31, 30, 29, 32, 32, 33, 32, 30, 30, 30, 30, 3...</td>\n    </tr>\n    <tr>\n      <th>-2398</th>\n      <td>../data/asl_data/asl_alphabet_train/C/C1723.jpg</td>\n      <td>2</td>\n      <td>[32, 32, 29, 31, 30, 32, 33, 33, 32, 32, 31, 3...</td>\n    </tr>\n    <tr>\n      <th>-2397</th>\n      <td>../data/asl_data/asl_alphabet_train/T/T41.jpg</td>\n      <td>18</td>\n      <td>[30, 33, 29, 30, 29, 31, 30, 32, 31, 31, 31, 3...</td>\n    </tr>\n    <tr>\n      <th>-2396</th>\n      <td>../data/asl_data/asl_alphabet_train/E/E2762.jpg</td>\n      <td>4</td>\n      <td>[32, 31, 29, 30, 30, 33, 32, 31, 31, 30, 30, 3...</td>\n    </tr>\n  </tbody>\n</table>\n</div>"
     },
     "execution_count": 84,
     "metadata": {},
     "output_type": "execute_result"
    }
   ],
   "source": [
    "sub_df5.head()"
   ],
   "metadata": {
    "collapsed": false,
    "ExecuteTime": {
     "end_time": "2023-12-13T00:21:59.513149Z",
     "start_time": "2023-12-13T00:21:59.490440Z"
    }
   },
   "id": "5dc126f2ba20d07f"
  },
  {
   "cell_type": "code",
   "execution_count": 85,
   "outputs": [
    {
     "data": {
      "text/plain": "            pixel_0       pixel_1       pixel_2       pixel_3       pixel_4  \\\ncount  14400.000000  14400.000000  14400.000000  14400.000000  14400.000000   \nmean      32.362153     31.694306     29.728958     30.129653     30.458611   \nstd        1.680302      1.653302      0.985242      0.988824      1.293869   \nmin       27.000000     28.000000     28.000000     28.000000     28.000000   \n25%       31.000000     31.000000     29.000000     29.000000     29.000000   \n50%       32.000000     32.000000     30.000000     30.000000     30.000000   \n75%       33.000000     33.000000     30.000000     31.000000     31.000000   \nmax       39.000000     37.000000     34.000000     34.000000     37.000000   \n\n            pixel_5       pixel_6       pixel_7       pixel_8       pixel_9  \\\ncount  14400.000000  14400.000000  14400.000000  14400.000000  14400.000000   \nmean      31.535347     30.663681     30.727292     30.268681     30.329792   \nstd        1.552561      1.499594      1.161818      1.039717      1.076903   \nmin       28.000000     28.000000     28.000000     29.000000     28.000000   \n25%       30.000000     29.000000     30.000000     29.000000     30.000000   \n50%       31.000000     31.000000     31.000000     30.000000     30.000000   \n75%       33.000000     32.000000     31.000000     31.000000     31.000000   \nmax       38.000000     36.000000     35.000000     35.000000     36.000000   \n\n       ...   pixel_39990   pixel_39991   pixel_39992   pixel_39993  \\\ncount  ...  14400.000000  14400.000000  14400.000000  14400.000000   \nmean   ...     28.970347     28.932500     28.726667     29.179028   \nstd    ...      0.585038      0.690152      1.152337      1.756645   \nmin    ...     24.000000     26.000000     24.000000     24.000000   \n25%    ...     29.000000     29.000000     28.000000     28.000000   \n50%    ...     29.000000     29.000000     29.000000     29.000000   \n75%    ...     29.000000     29.000000     30.000000     30.000000   \nmax    ...     34.000000     32.000000     33.000000     35.000000   \n\n        pixel_39994   pixel_39995   pixel_39996   pixel_39997   pixel_39998  \\\ncount  14400.000000  14400.000000  14400.000000  14400.000000  14400.000000   \nmean      28.803611     28.821875     29.273542     28.766111     28.917917   \nstd        1.355914      1.509654      1.323224      1.373007      1.715492   \nmin       23.000000     23.000000     24.000000     24.000000     23.000000   \n25%       28.000000     28.000000     28.000000     28.000000     28.000000   \n50%       29.000000     29.000000     29.000000     29.000000     29.000000   \n75%       30.000000     30.000000     30.000000     30.000000     30.000000   \nmax       34.000000     34.000000     34.000000     33.000000     37.000000   \n\n        pixel_39999  \ncount  14400.000000  \nmean      29.847431  \nstd        1.145860  \nmin       24.000000  \n25%       29.000000  \n50%       30.000000  \n75%       31.000000  \nmax       33.000000  \n\n[8 rows x 40000 columns]",
      "text/html": "<div>\n<style scoped>\n    .dataframe tbody tr th:only-of-type {\n        vertical-align: middle;\n    }\n\n    .dataframe tbody tr th {\n        vertical-align: top;\n    }\n\n    .dataframe thead th {\n        text-align: right;\n    }\n</style>\n<table border=\"1\" class=\"dataframe\">\n  <thead>\n    <tr style=\"text-align: right;\">\n      <th></th>\n      <th>pixel_0</th>\n      <th>pixel_1</th>\n      <th>pixel_2</th>\n      <th>pixel_3</th>\n      <th>pixel_4</th>\n      <th>pixel_5</th>\n      <th>pixel_6</th>\n      <th>pixel_7</th>\n      <th>pixel_8</th>\n      <th>pixel_9</th>\n      <th>...</th>\n      <th>pixel_39990</th>\n      <th>pixel_39991</th>\n      <th>pixel_39992</th>\n      <th>pixel_39993</th>\n      <th>pixel_39994</th>\n      <th>pixel_39995</th>\n      <th>pixel_39996</th>\n      <th>pixel_39997</th>\n      <th>pixel_39998</th>\n      <th>pixel_39999</th>\n    </tr>\n  </thead>\n  <tbody>\n    <tr>\n      <th>count</th>\n      <td>14400.000000</td>\n      <td>14400.000000</td>\n      <td>14400.000000</td>\n      <td>14400.000000</td>\n      <td>14400.000000</td>\n      <td>14400.000000</td>\n      <td>14400.000000</td>\n      <td>14400.000000</td>\n      <td>14400.000000</td>\n      <td>14400.000000</td>\n      <td>...</td>\n      <td>14400.000000</td>\n      <td>14400.000000</td>\n      <td>14400.000000</td>\n      <td>14400.000000</td>\n      <td>14400.000000</td>\n      <td>14400.000000</td>\n      <td>14400.000000</td>\n      <td>14400.000000</td>\n      <td>14400.000000</td>\n      <td>14400.000000</td>\n    </tr>\n    <tr>\n      <th>mean</th>\n      <td>32.362153</td>\n      <td>31.694306</td>\n      <td>29.728958</td>\n      <td>30.129653</td>\n      <td>30.458611</td>\n      <td>31.535347</td>\n      <td>30.663681</td>\n      <td>30.727292</td>\n      <td>30.268681</td>\n      <td>30.329792</td>\n      <td>...</td>\n      <td>28.970347</td>\n      <td>28.932500</td>\n      <td>28.726667</td>\n      <td>29.179028</td>\n      <td>28.803611</td>\n      <td>28.821875</td>\n      <td>29.273542</td>\n      <td>28.766111</td>\n      <td>28.917917</td>\n      <td>29.847431</td>\n    </tr>\n    <tr>\n      <th>std</th>\n      <td>1.680302</td>\n      <td>1.653302</td>\n      <td>0.985242</td>\n      <td>0.988824</td>\n      <td>1.293869</td>\n      <td>1.552561</td>\n      <td>1.499594</td>\n      <td>1.161818</td>\n      <td>1.039717</td>\n      <td>1.076903</td>\n      <td>...</td>\n      <td>0.585038</td>\n      <td>0.690152</td>\n      <td>1.152337</td>\n      <td>1.756645</td>\n      <td>1.355914</td>\n      <td>1.509654</td>\n      <td>1.323224</td>\n      <td>1.373007</td>\n      <td>1.715492</td>\n      <td>1.145860</td>\n    </tr>\n    <tr>\n      <th>min</th>\n      <td>27.000000</td>\n      <td>28.000000</td>\n      <td>28.000000</td>\n      <td>28.000000</td>\n      <td>28.000000</td>\n      <td>28.000000</td>\n      <td>28.000000</td>\n      <td>28.000000</td>\n      <td>29.000000</td>\n      <td>28.000000</td>\n      <td>...</td>\n      <td>24.000000</td>\n      <td>26.000000</td>\n      <td>24.000000</td>\n      <td>24.000000</td>\n      <td>23.000000</td>\n      <td>23.000000</td>\n      <td>24.000000</td>\n      <td>24.000000</td>\n      <td>23.000000</td>\n      <td>24.000000</td>\n    </tr>\n    <tr>\n      <th>25%</th>\n      <td>31.000000</td>\n      <td>31.000000</td>\n      <td>29.000000</td>\n      <td>29.000000</td>\n      <td>29.000000</td>\n      <td>30.000000</td>\n      <td>29.000000</td>\n      <td>30.000000</td>\n      <td>29.000000</td>\n      <td>30.000000</td>\n      <td>...</td>\n      <td>29.000000</td>\n      <td>29.000000</td>\n      <td>28.000000</td>\n      <td>28.000000</td>\n      <td>28.000000</td>\n      <td>28.000000</td>\n      <td>28.000000</td>\n      <td>28.000000</td>\n      <td>28.000000</td>\n      <td>29.000000</td>\n    </tr>\n    <tr>\n      <th>50%</th>\n      <td>32.000000</td>\n      <td>32.000000</td>\n      <td>30.000000</td>\n      <td>30.000000</td>\n      <td>30.000000</td>\n      <td>31.000000</td>\n      <td>31.000000</td>\n      <td>31.000000</td>\n      <td>30.000000</td>\n      <td>30.000000</td>\n      <td>...</td>\n      <td>29.000000</td>\n      <td>29.000000</td>\n      <td>29.000000</td>\n      <td>29.000000</td>\n      <td>29.000000</td>\n      <td>29.000000</td>\n      <td>29.000000</td>\n      <td>29.000000</td>\n      <td>29.000000</td>\n      <td>30.000000</td>\n    </tr>\n    <tr>\n      <th>75%</th>\n      <td>33.000000</td>\n      <td>33.000000</td>\n      <td>30.000000</td>\n      <td>31.000000</td>\n      <td>31.000000</td>\n      <td>33.000000</td>\n      <td>32.000000</td>\n      <td>31.000000</td>\n      <td>31.000000</td>\n      <td>31.000000</td>\n      <td>...</td>\n      <td>29.000000</td>\n      <td>29.000000</td>\n      <td>30.000000</td>\n      <td>30.000000</td>\n      <td>30.000000</td>\n      <td>30.000000</td>\n      <td>30.000000</td>\n      <td>30.000000</td>\n      <td>30.000000</td>\n      <td>31.000000</td>\n    </tr>\n    <tr>\n      <th>max</th>\n      <td>39.000000</td>\n      <td>37.000000</td>\n      <td>34.000000</td>\n      <td>34.000000</td>\n      <td>37.000000</td>\n      <td>38.000000</td>\n      <td>36.000000</td>\n      <td>35.000000</td>\n      <td>35.000000</td>\n      <td>36.000000</td>\n      <td>...</td>\n      <td>34.000000</td>\n      <td>32.000000</td>\n      <td>33.000000</td>\n      <td>35.000000</td>\n      <td>34.000000</td>\n      <td>34.000000</td>\n      <td>34.000000</td>\n      <td>33.000000</td>\n      <td>37.000000</td>\n      <td>33.000000</td>\n    </tr>\n  </tbody>\n</table>\n<p>8 rows × 40000 columns</p>\n</div>"
     },
     "execution_count": 85,
     "metadata": {},
     "output_type": "execute_result"
    }
   ],
   "source": [
    "df5_imagePix = pd.DataFrame(sub_df5['greyscale'].apply(pd.Series).values, columns=[f'pixel_{i}' for i in range(len(sub_df5['greyscale'].iloc[0]))])\n",
    "\n",
    "df5_imagePix.describe()"
   ],
   "metadata": {
    "collapsed": false,
    "ExecuteTime": {
     "end_time": "2023-12-13T00:22:36.949056Z",
     "start_time": "2023-12-13T00:22:10.143121Z"
    }
   },
   "id": "5cca80b09359cec2"
  },
  {
   "cell_type": "code",
   "execution_count": 91,
   "outputs": [
    {
     "name": "stdout",
     "output_type": "stream",
     "text": [
      "Shape of the reshaped data: (14400, 200, 200, 1)\n",
      "Shape of the label: (14400,)\n"
     ]
    }
   ],
   "source": [
    "#normalize reshape for cnn\n",
    "labels_5 = sub_df5['category']\n",
    "pixel_values_5 = df5_imagePix.to_numpy()\n",
    "\n",
    "image_height = 200\n",
    "image_width = 200\n",
    "num_channels = 1\n",
    "num_samples = pixel_values_5.shape[0]\n",
    "\n",
    "y_labels_5 = np.array(labels_5)\n",
    "\n",
    "reshaped_data_5 = pixel_values_5.reshape(num_samples, image_height, image_width, num_channels)\n",
    "reshaped_data_5 = reshaped_data_5.astype('float32') / 255.0\n",
    "\n",
    "print(\"Shape of the reshaped data:\", reshaped_data_5.shape)\n",
    "print(\"Shape of the label:\", y_labels_5.shape)"
   ],
   "metadata": {
    "collapsed": false,
    "ExecuteTime": {
     "end_time": "2023-12-13T00:36:20.577618Z",
     "start_time": "2023-12-13T00:36:20.061769Z"
    }
   },
   "id": "03351a45"
  },
  {
   "cell_type": "code",
   "execution_count": 93,
   "outputs": [
    {
     "name": "stdout",
     "output_type": "stream",
     "text": [
      "int64\n",
      "y_train is a NumPy array.\n"
     ]
    }
   ],
   "source": [
    "print(labels_5.dtype)\n",
    "if type(y_labels_5) is np.ndarray:\n",
    "    print(\"y_train is a NumPy array.\")\n",
    "else:\n",
    "    print(\"y_train is not a NumPy array.\")"
   ],
   "metadata": {
    "collapsed": false,
    "ExecuteTime": {
     "end_time": "2023-12-13T00:36:46.333345Z",
     "start_time": "2023-12-13T00:36:46.309122Z"
    }
   },
   "id": "fe2334dd75ff6710"
  },
  {
   "cell_type": "markdown",
   "source": [
    "# model assembly"
   ],
   "metadata": {
    "collapsed": false
   },
   "id": "bee097d2b9cbe221"
  },
  {
   "cell_type": "code",
   "execution_count": 19,
   "outputs": [],
   "source": [
    "from keras.models import Sequential\n",
    "from keras.layers import Dense, Dropout, Activation, Flatten\n",
    "from keras.layers import Convolution2D, MaxPooling2D\n",
    "from keras.utils import to_categorical"
   ],
   "metadata": {
    "collapsed": false,
    "ExecuteTime": {
     "end_time": "2023-12-13T12:39:02.127963852Z",
     "start_time": "2023-12-13T12:39:02.076152941Z"
    }
   },
   "id": "c5fb4c86fd49c171"
  },
  {
   "cell_type": "code",
   "execution_count": 97,
   "outputs": [],
   "source": [
    "y_labels_5_one_hot = to_categorical(y_labels_5, num_classes=24)"
   ],
   "metadata": {
    "collapsed": false,
    "ExecuteTime": {
     "end_time": "2023-12-13T00:39:41.032605Z",
     "start_time": "2023-12-13T00:39:41.011796Z"
    }
   },
   "id": "573421b0b385337"
  },
  {
   "cell_type": "code",
   "execution_count": 98,
   "outputs": [
    {
     "name": "stdout",
     "output_type": "stream",
     "text": [
      "Epoch 1/88\n",
      "48/48 [==============================] - 7s 136ms/step - loss: 3.1709 - accuracy: 0.0548\n",
      "Epoch 2/88\n",
      "48/48 [==============================] - 7s 140ms/step - loss: 2.7260 - accuracy: 0.1821\n",
      "Epoch 3/88\n",
      "48/48 [==============================] - 7s 139ms/step - loss: 1.9561 - accuracy: 0.3676\n",
      "Epoch 4/88\n",
      "48/48 [==============================] - 7s 146ms/step - loss: 1.4583 - accuracy: 0.5065\n",
      "Epoch 5/88\n",
      "48/48 [==============================] - 7s 142ms/step - loss: 1.1655 - accuracy: 0.5988\n",
      "Epoch 6/88\n",
      "48/48 [==============================] - 7s 139ms/step - loss: 0.9652 - accuracy: 0.6664\n",
      "Epoch 7/88\n",
      "48/48 [==============================] - 7s 142ms/step - loss: 0.8287 - accuracy: 0.7122\n",
      "Epoch 8/88\n",
      "48/48 [==============================] - 7s 137ms/step - loss: 0.7205 - accuracy: 0.7481\n",
      "Epoch 9/88\n",
      "48/48 [==============================] - 7s 143ms/step - loss: 0.6461 - accuracy: 0.7713\n",
      "Epoch 10/88\n",
      "48/48 [==============================] - 7s 147ms/step - loss: 0.5655 - accuracy: 0.7994\n",
      "Epoch 11/88\n",
      "48/48 [==============================] - 7s 144ms/step - loss: 0.5349 - accuracy: 0.8110\n",
      "Epoch 12/88\n",
      "48/48 [==============================] - 7s 141ms/step - loss: 0.4758 - accuracy: 0.8331\n",
      "Epoch 13/88\n",
      "48/48 [==============================] - 7s 137ms/step - loss: 0.4384 - accuracy: 0.8445\n",
      "Epoch 14/88\n",
      "48/48 [==============================] - 7s 141ms/step - loss: 0.4111 - accuracy: 0.8569\n",
      "Epoch 15/88\n",
      "48/48 [==============================] - 7s 137ms/step - loss: 0.3893 - accuracy: 0.8626\n",
      "Epoch 16/88\n",
      "48/48 [==============================] - 7s 139ms/step - loss: 0.3456 - accuracy: 0.8801\n",
      "Epoch 17/88\n",
      "48/48 [==============================] - 7s 142ms/step - loss: 0.3534 - accuracy: 0.8801\n",
      "Epoch 18/88\n",
      "48/48 [==============================] - 7s 139ms/step - loss: 0.3115 - accuracy: 0.8903\n",
      "Epoch 19/88\n",
      "48/48 [==============================] - 7s 139ms/step - loss: 0.2845 - accuracy: 0.9003\n",
      "Epoch 20/88\n",
      "48/48 [==============================] - 7s 138ms/step - loss: 0.2697 - accuracy: 0.9052\n",
      "Epoch 21/88\n",
      "48/48 [==============================] - 7s 137ms/step - loss: 0.2610 - accuracy: 0.9085\n",
      "Epoch 22/88\n",
      "48/48 [==============================] - 7s 137ms/step - loss: 0.2483 - accuracy: 0.9156\n",
      "Epoch 23/88\n",
      "48/48 [==============================] - 7s 137ms/step - loss: 0.2397 - accuracy: 0.9188\n",
      "Epoch 24/88\n",
      "48/48 [==============================] - 7s 136ms/step - loss: 0.2259 - accuracy: 0.9230\n",
      "Epoch 25/88\n",
      "48/48 [==============================] - 7s 137ms/step - loss: 0.2267 - accuracy: 0.9197\n",
      "Epoch 26/88\n",
      "48/48 [==============================] - 7s 137ms/step - loss: 0.1997 - accuracy: 0.9294\n",
      "Epoch 27/88\n",
      "48/48 [==============================] - 7s 138ms/step - loss: 0.1785 - accuracy: 0.9392\n",
      "Epoch 28/88\n",
      "48/48 [==============================] - 7s 136ms/step - loss: 0.1777 - accuracy: 0.9409\n",
      "Epoch 29/88\n",
      "48/48 [==============================] - 7s 137ms/step - loss: 0.1724 - accuracy: 0.9413\n",
      "Epoch 30/88\n",
      "48/48 [==============================] - 7s 138ms/step - loss: 0.1811 - accuracy: 0.9379\n",
      "Epoch 31/88\n",
      "48/48 [==============================] - 7s 139ms/step - loss: 0.1754 - accuracy: 0.9403\n",
      "Epoch 32/88\n",
      "48/48 [==============================] - 7s 137ms/step - loss: 0.1777 - accuracy: 0.9395\n",
      "Epoch 33/88\n",
      "48/48 [==============================] - 7s 137ms/step - loss: 0.1547 - accuracy: 0.9467\n",
      "Epoch 34/88\n",
      "48/48 [==============================] - 7s 137ms/step - loss: 0.1422 - accuracy: 0.9521\n",
      "Epoch 35/88\n",
      "48/48 [==============================] - 7s 136ms/step - loss: 0.1311 - accuracy: 0.9544\n",
      "Epoch 36/88\n",
      "48/48 [==============================] - 7s 136ms/step - loss: 0.1358 - accuracy: 0.9562\n",
      "Epoch 37/88\n",
      "48/48 [==============================] - 7s 136ms/step - loss: 0.1314 - accuracy: 0.9576\n",
      "Epoch 38/88\n",
      "48/48 [==============================] - 7s 137ms/step - loss: 0.1382 - accuracy: 0.9549\n",
      "Epoch 39/88\n",
      "48/48 [==============================] - 7s 137ms/step - loss: 0.1248 - accuracy: 0.9599\n",
      "Epoch 40/88\n",
      "48/48 [==============================] - 7s 136ms/step - loss: 0.1312 - accuracy: 0.9551\n",
      "Epoch 41/88\n",
      "48/48 [==============================] - 7s 137ms/step - loss: 0.1188 - accuracy: 0.9624\n",
      "Epoch 42/88\n",
      "48/48 [==============================] - 7s 141ms/step - loss: 0.1108 - accuracy: 0.9623\n",
      "Epoch 43/88\n",
      "48/48 [==============================] - 7s 136ms/step - loss: 0.1122 - accuracy: 0.9628\n",
      "Epoch 44/88\n",
      "48/48 [==============================] - 6s 135ms/step - loss: 0.1133 - accuracy: 0.9601\n",
      "Epoch 45/88\n",
      "48/48 [==============================] - 7s 146ms/step - loss: 0.1004 - accuracy: 0.9656\n",
      "Epoch 46/88\n",
      "48/48 [==============================] - 7s 142ms/step - loss: 0.1045 - accuracy: 0.9660\n",
      "Epoch 47/88\n",
      "48/48 [==============================] - 7s 135ms/step - loss: 0.1137 - accuracy: 0.9638\n",
      "Epoch 48/88\n",
      "48/48 [==============================] - 7s 142ms/step - loss: 0.1003 - accuracy: 0.9681\n",
      "Epoch 49/88\n",
      "48/48 [==============================] - 7s 141ms/step - loss: 0.1001 - accuracy: 0.9666\n",
      "Epoch 50/88\n",
      "48/48 [==============================] - 7s 142ms/step - loss: 0.0958 - accuracy: 0.9688\n",
      "Epoch 51/88\n",
      "48/48 [==============================] - 7s 139ms/step - loss: 0.0902 - accuracy: 0.9699\n",
      "Epoch 52/88\n",
      "48/48 [==============================] - 7s 137ms/step - loss: 0.0962 - accuracy: 0.9674\n",
      "Epoch 53/88\n",
      "48/48 [==============================] - 7s 137ms/step - loss: 0.0938 - accuracy: 0.9676\n",
      "Epoch 54/88\n",
      "48/48 [==============================] - 7s 137ms/step - loss: 0.0909 - accuracy: 0.9694\n",
      "Epoch 55/88\n",
      "48/48 [==============================] - 7s 138ms/step - loss: 0.0855 - accuracy: 0.9720\n",
      "Epoch 56/88\n",
      "48/48 [==============================] - 7s 137ms/step - loss: 0.0898 - accuracy: 0.9726\n",
      "Epoch 57/88\n",
      "48/48 [==============================] - 7s 138ms/step - loss: 0.0889 - accuracy: 0.9717\n",
      "Epoch 58/88\n",
      "48/48 [==============================] - 7s 140ms/step - loss: 0.0849 - accuracy: 0.9731\n",
      "Epoch 59/88\n",
      "48/48 [==============================] - 7s 138ms/step - loss: 0.0798 - accuracy: 0.9747\n",
      "Epoch 60/88\n",
      "48/48 [==============================] - 7s 137ms/step - loss: 0.0775 - accuracy: 0.9739\n",
      "Epoch 61/88\n",
      "48/48 [==============================] - 7s 137ms/step - loss: 0.0831 - accuracy: 0.9741\n",
      "Epoch 62/88\n",
      "48/48 [==============================] - 7s 137ms/step - loss: 0.0815 - accuracy: 0.9738\n",
      "Epoch 63/88\n",
      "48/48 [==============================] - 7s 137ms/step - loss: 0.0761 - accuracy: 0.9756\n",
      "Epoch 64/88\n",
      "48/48 [==============================] - 7s 137ms/step - loss: 0.0776 - accuracy: 0.9756\n",
      "Epoch 65/88\n",
      "48/48 [==============================] - 7s 137ms/step - loss: 0.0700 - accuracy: 0.9787\n",
      "Epoch 66/88\n",
      "48/48 [==============================] - 7s 138ms/step - loss: 0.0742 - accuracy: 0.9752\n",
      "Epoch 67/88\n",
      "48/48 [==============================] - 7s 137ms/step - loss: 0.0654 - accuracy: 0.9794\n",
      "Epoch 68/88\n",
      "48/48 [==============================] - 7s 136ms/step - loss: 0.0650 - accuracy: 0.9783\n",
      "Epoch 69/88\n",
      "48/48 [==============================] - 7s 136ms/step - loss: 0.0724 - accuracy: 0.9760\n",
      "Epoch 70/88\n",
      "48/48 [==============================] - 7s 137ms/step - loss: 0.0612 - accuracy: 0.9789\n",
      "Epoch 71/88\n",
      "48/48 [==============================] - 7s 138ms/step - loss: 0.0614 - accuracy: 0.9802\n",
      "Epoch 72/88\n",
      "48/48 [==============================] - 7s 138ms/step - loss: 0.0660 - accuracy: 0.9797\n",
      "Epoch 73/88\n",
      "48/48 [==============================] - 7s 137ms/step - loss: 0.0654 - accuracy: 0.9781\n",
      "Epoch 74/88\n",
      "48/48 [==============================] - 7s 138ms/step - loss: 0.0642 - accuracy: 0.9792\n",
      "Epoch 75/88\n",
      "48/48 [==============================] - 7s 140ms/step - loss: 0.0582 - accuracy: 0.9817\n",
      "Epoch 76/88\n",
      "48/48 [==============================] - 7s 137ms/step - loss: 0.0704 - accuracy: 0.9771\n",
      "Epoch 77/88\n",
      "48/48 [==============================] - 7s 137ms/step - loss: 0.0678 - accuracy: 0.9772\n",
      "Epoch 78/88\n",
      "48/48 [==============================] - 7s 137ms/step - loss: 0.0606 - accuracy: 0.9793\n",
      "Epoch 79/88\n",
      "48/48 [==============================] - 7s 137ms/step - loss: 0.0630 - accuracy: 0.9803\n",
      "Epoch 80/88\n",
      "48/48 [==============================] - 7s 137ms/step - loss: 0.0554 - accuracy: 0.9816\n",
      "Epoch 81/88\n",
      "48/48 [==============================] - 7s 136ms/step - loss: 0.0587 - accuracy: 0.9812\n",
      "Epoch 82/88\n",
      "48/48 [==============================] - 7s 138ms/step - loss: 0.0515 - accuracy: 0.9828\n",
      "Epoch 83/88\n",
      "48/48 [==============================] - 7s 137ms/step - loss: 0.0590 - accuracy: 0.9819\n",
      "Epoch 84/88\n",
      "48/48 [==============================] - 7s 137ms/step - loss: 0.0668 - accuracy: 0.9795\n",
      "Epoch 85/88\n",
      "48/48 [==============================] - 7s 137ms/step - loss: 0.0558 - accuracy: 0.9833\n",
      "Epoch 86/88\n",
      "48/48 [==============================] - 7s 137ms/step - loss: 0.0532 - accuracy: 0.9833\n",
      "Epoch 87/88\n",
      "48/48 [==============================] - 7s 136ms/step - loss: 0.0646 - accuracy: 0.9808\n",
      "Epoch 88/88\n",
      "48/48 [==============================] - 7s 137ms/step - loss: 0.0531 - accuracy: 0.9824\n"
     ]
    },
    {
     "data": {
      "text/plain": "<keras.callbacks.History at 0x29eebff10>"
     },
     "execution_count": 98,
     "metadata": {},
     "output_type": "execute_result"
    }
   ],
   "source": [
    "basic_cnn_model = Sequential()\n",
    "\n",
    "basic_cnn_model.add(Convolution2D(32, (8,8), activation='relu', input_shape=(200,200,1), strides= (5,5)))\n",
    "#parameters:    to use 32 convolution filters\n",
    "#               rows and columns of each kernel\n",
    "#               strides: step size\n",
    "#               input_shape: same shape as the picture\n",
    "\n",
    "basic_cnn_model.add(Convolution2D(32, (3,3), activation='relu'))\n",
    "basic_cnn_model.add(MaxPooling2D(pool_size=(2,2)))\n",
    "basic_cnn_model.add(Dropout(0.25))\n",
    "#fully connected: \n",
    "basic_cnn_model.add(Flatten())\n",
    "basic_cnn_model.add(Dense(300, activation='relu'))\n",
    "basic_cnn_model.add(Dropout(0.5))\n",
    "basic_cnn_model.add(Dense(300, activation='relu'))\n",
    "basic_cnn_model.add(Dropout(0.5))\n",
    "basic_cnn_model.add(Dense(24, activation='softmax'))\n",
    "\n",
    "\n",
    "basic_cnn_model.compile(loss='categorical_crossentropy',\n",
    "                        optimizer='adam',\n",
    "                        metrics=['accuracy'])\n",
    "\n",
    "basic_cnn_model.fit(reshaped_data_5, y_labels_5_one_hot, \n",
    "          batch_size=300, epochs=88, verbose=1) #next time epochs = 55 or under is fine"
   ],
   "metadata": {
    "collapsed": false,
    "ExecuteTime": {
     "end_time": "2023-12-13T00:49:37.646453Z",
     "start_time": "2023-12-13T00:39:51.200376Z"
    }
   },
   "id": "60ef61aa11f973a3"
  },
  {
   "cell_type": "markdown",
   "source": [
    "## evaluation data process same as train but isolated"
   ],
   "metadata": {
    "collapsed": false
   },
   "id": "cfc5d98fc25fba45"
  },
  {
   "cell_type": "code",
   "execution_count": 105,
   "outputs": [
    {
     "name": "stdout",
     "output_type": "stream",
     "text": [
      "Shape of the reshaped data: (14400, 200, 200, 1)\n",
      "Shape of the label: (14400,)\n"
     ]
    }
   ],
   "source": [
    "#test data (same as training data) \n",
    "sub_df1['greyscale'] = sub_df1['filename'].apply(image_to_grey_array)\n",
    "sub_df1 = sub_df1.rename(index = lambda x: x-60000)\n",
    "df1_imagePix = pd.DataFrame(sub_df1['greyscale'].apply(pd.Series).values, columns=[f'pixel_{i}' for i in range(len(sub_df1['greyscale'].iloc[0]))])\n",
    "\n",
    "labels_1 = sub_df1['category']\n",
    "pixel_values_1 = df1_imagePix.to_numpy()\n",
    "\n",
    "image_height = 200\n",
    "image_width = 200\n",
    "num_channels = 1\n",
    "num_samples = pixel_values_1.shape[0]\n",
    "\n",
    "y_labels_1 = np.array(labels_1)\n",
    "\n",
    "reshaped_data_1 = pixel_values_1.reshape(num_samples, image_height, image_width, num_channels)\n",
    "reshaped_data_1 = reshaped_data_1.astype('float32') / 255.0\n",
    "\n",
    "y_labels_1_one_hot = to_categorical(y_labels_1, num_classes=24) ##very important\n",
    "\n",
    "print(\"Shape of the reshaped data:\", reshaped_data_5.shape)\n",
    "print(\"Shape of the label:\", y_labels_5.shape)"
   ],
   "metadata": {
    "collapsed": false,
    "ExecuteTime": {
     "start_time": "2023-12-13T01:04:19.977513Z"
    }
   },
   "id": "5132e1733eb6da29"
  },
  {
   "cell_type": "markdown",
   "source": [
    "## evaluation"
   ],
   "metadata": {
    "collapsed": false
   },
   "id": "a2051e04ad091ff0"
  },
  {
   "cell_type": "code",
   "execution_count": 107,
   "outputs": [
    {
     "name": "stdout",
     "output_type": "stream",
     "text": [
      "loss: 0.08168219774961472\n",
      "accuracy:  0.9747916460037231\n"
     ]
    }
   ],
   "source": [
    "#quick evaluate\n",
    "\n",
    "loss_model1, accuracy_model1 = basic_cnn_model.evaluate(reshaped_data_1, y_labels_1_one_hot, verbose=0)\n",
    "print(\"loss:\", loss_model1)\n",
    "print(\"accuracy: \", accuracy_model1)"
   ],
   "metadata": {
    "collapsed": false,
    "ExecuteTime": {
     "start_time": "2023-12-13T01:06:44.829311Z"
    }
   },
   "id": "b4091129a3d13bcd"
  },
  {
   "cell_type": "markdown",
   "source": [
    "## saving this model"
   ],
   "metadata": {
    "collapsed": false
   },
   "id": "6eed25a15e3520c5"
  },
  {
   "cell_type": "code",
   "execution_count": 108,
   "outputs": [],
   "source": [
    "#save model just in case\n",
    "\n",
    "model_file_path = '../model/cnn/model1_onefifth_train_2c_2d.h5'\n",
    "basic_cnn_model.save(model_file_path)"
   ],
   "metadata": {
    "collapsed": false,
    "ExecuteTime": {
     "start_time": "2023-12-13T01:08:01.093034Z"
    }
   },
   "id": "6ed80f3ffe5c719"
  },
  {
   "cell_type": "code",
   "execution_count": null,
   "outputs": [],
   "source": [],
   "metadata": {
    "collapsed": false
   },
   "id": "149c6eb2f6da14b5"
  }
 ],
 "metadata": {
  "kernelspec": {
   "name": "python3",
   "language": "python",
   "display_name": "Python 3 (ipykernel)"
  },
  "language_info": {
   "codemirror_mode": {
    "name": "ipython",
    "version": 3
   },
   "file_extension": ".py",
   "mimetype": "text/x-python",
   "name": "python",
   "nbconvert_exporter": "python",
   "pygments_lexer": "ipython3",
   "version": "3.9.6"
  }
 },
 "nbformat": 4,
 "nbformat_minor": 5
}
