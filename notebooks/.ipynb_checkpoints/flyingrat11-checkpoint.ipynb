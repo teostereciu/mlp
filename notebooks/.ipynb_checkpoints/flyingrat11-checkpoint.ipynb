{
 "cells": [
  {
   "cell_type": "markdown",
   "id": "66adba4dc4d25f3d",
   "metadata": {},
   "source": [
    "See if things are configured correctly\n",
    "So far the kernel works -> python version 3.9\n",
    "importing necessary packages\n",
    "loading data -> works\n",
    "setting up data->class lists"
   ]
  },
  {
   "cell_type": "code",
   "execution_count": 1,
   "id": "e62151f3bf6ca078",
   "metadata": {
    "ExecuteTime": {
     "end_time": "2023-11-21T16:01:37.390341Z",
     "start_time": "2023-11-21T16:01:37.387728Z"
    }
   },
   "outputs": [
    {
     "name": "stdout",
     "output_type": "stream",
     "text": [
      "Hello, World!\n"
     ]
    }
   ],
   "source": [
    "#seems like it's printing\n",
    "print(\"Hello, World!\")"
   ]
  },
  {
   "cell_type": "code",
   "execution_count": 30,
   "id": "6bfcd26cc68744aa",
   "metadata": {
    "ExecuteTime": {
     "end_time": "2023-11-29T11:32:30.729711Z",
     "start_time": "2023-11-29T11:32:30.727487Z"
    }
   },
   "outputs": [],
   "source": [
    "import numpy as np\n",
    "import pandas as pd\n",
    "import os\n",
    "from PIL import Image\n",
    "import matplotlib.pyplot as plt\n",
    "\n",
    "RAND_SEED = 21"
   ]
  },
  {
   "cell_type": "code",
   "execution_count": 20,
   "id": "f9d6c0a943c49eef",
   "metadata": {
    "ExecuteTime": {
     "end_time": "2023-11-29T11:14:24.207631Z",
     "start_time": "2023-11-29T11:14:24.200930Z"
    }
   },
   "outputs": [],
   "source": [
    "#include the functions\n",
    "%run 'functions.ipynb'"
   ]
  },
  {
   "cell_type": "code",
   "execution_count": 5,
   "id": "bc42685aad728206",
   "metadata": {
    "ExecuteTime": {
     "end_time": "2023-11-29T11:08:49.854891Z",
     "start_time": "2023-11-29T11:08:49.847207Z"
    }
   },
   "outputs": [],
   "source": [
    "#image data directory\n",
    "data_dir = \"../data/asl_data/\"\n",
    "\n",
    "#directory for train and test\n",
    "train_dir = os.path.join(data_dir,\"asl_alphabet_train\")\n",
    "test_dir = os.path.join(data_dir,\"asl_alphabet_test\")"
   ]
  },
  {
   "cell_type": "code",
   "execution_count": 7,
   "id": "e97b523afb7cd696",
   "metadata": {
    "ExecuteTime": {
     "end_time": "2023-11-29T11:11:38.157866Z",
     "start_time": "2023-11-29T11:11:38.026065Z"
    }
   },
   "outputs": [],
   "source": [
    "#test load and show one image\n",
    "image_try = os.path.join(train_dir,\"A/A1.jpg\")\n",
    "try_show_image = Image.open(image_try)\n",
    "try_show_image.show() ##worked in a pop-up window"
   ]
  },
  {
   "cell_type": "code",
   "execution_count": 8,
   "id": "e400c3df7d695edc",
   "metadata": {
    "ExecuteTime": {
     "end_time": "2023-11-29T11:11:44.525688Z",
     "start_time": "2023-11-29T11:11:44.522540Z"
    }
   },
   "outputs": [],
   "source": [
    "#class dictionary\n",
    "categories = {  0: \"A\",\n",
    "                1: \"B\",\n",
    "                2: \"C\",\n",
    "                3: \"D\",\n",
    "                4: \"E\",\n",
    "                5: \"F\",\n",
    "                6: \"G\",\n",
    "                7: \"H\",\n",
    "                8: \"I\",\n",
    "                9: \"G\",\n",
    "                10: \"K\",\n",
    "                11: \"L\",\n",
    "                12: \"M\",\n",
    "                13: \"N\",\n",
    "                14: \"O\",\n",
    "                15: \"P\",\n",
    "                16: \"Q\",\n",
    "                17: \"R\",\n",
    "                18: \"S\",\n",
    "                19: \"T\",\n",
    "                20: \"U\",\n",
    "                21: \"V\",\n",
    "                22: \"W\",\n",
    "                23: \"X\",\n",
    "                24: \"Y\",\n",
    "            }"
   ]
  },
  {
   "cell_type": "code",
   "execution_count": 9,
   "id": "9423affbcb0c8aa6",
   "metadata": {
    "ExecuteTime": {
     "end_time": "2023-11-29T11:11:45.913246Z",
     "start_time": "2023-11-29T11:11:45.783784Z"
    }
   },
   "outputs": [],
   "source": [
    "#create lists\n",
    "images = [] ##image names\n",
    "target = [] ##corresponding classes\n",
    "for category in categories:\n",
    "    files = os.listdir(os.path.join(train_dir, categories[category]))\n",
    "    for file in files:\n",
    "        file_path = os.path.join(train_dir, categories[category], file)\n",
    "        images.append(file_path)\n",
    "        target.append(category)\n",
    "df = pd.DataFrame({\"filename\": images, \"category\": target})\n",
    "\n",
    "#shuffle the dataframe\n",
    "shuffled_df = df.sample(frac=1).reset_index(drop=True)"
   ]
  },
  {
   "cell_type": "code",
   "execution_count": 10,
   "id": "8953b28a7c459a63",
   "metadata": {
    "ExecuteTime": {
     "end_time": "2023-11-29T11:11:46.647570Z",
     "start_time": "2023-11-29T11:11:46.618363Z"
    }
   },
   "outputs": [
    {
     "name": "stdout",
     "output_type": "stream",
     "text": [
      "<class 'pandas.core.frame.DataFrame'>\n",
      "RangeIndex: 75000 entries, 0 to 74999\n",
      "Data columns (total 2 columns):\n",
      " #   Column    Non-Null Count  Dtype \n",
      "---  ------    --------------  ----- \n",
      " 0   filename  75000 non-null  object\n",
      " 1   category  75000 non-null  int64 \n",
      "dtypes: int64(1), object(1)\n",
      "memory usage: 1.1+ MB\n"
     ]
    },
    {
     "data": {
      "text/html": [
       "<div>\n",
       "<style scoped>\n",
       "    .dataframe tbody tr th:only-of-type {\n",
       "        vertical-align: middle;\n",
       "    }\n",
       "\n",
       "    .dataframe tbody tr th {\n",
       "        vertical-align: top;\n",
       "    }\n",
       "\n",
       "    .dataframe thead th {\n",
       "        text-align: right;\n",
       "    }\n",
       "</style>\n",
       "<table border=\"1\" class=\"dataframe\">\n",
       "  <thead>\n",
       "    <tr style=\"text-align: right;\">\n",
       "      <th></th>\n",
       "      <th>filename</th>\n",
       "      <th>category</th>\n",
       "    </tr>\n",
       "  </thead>\n",
       "  <tbody>\n",
       "    <tr>\n",
       "      <th>0</th>\n",
       "      <td>../data/asl_data/asl_alphabet_train/A/A25.jpg</td>\n",
       "      <td>0</td>\n",
       "    </tr>\n",
       "    <tr>\n",
       "      <th>1</th>\n",
       "      <td>../data/asl_data/asl_alphabet_train/A/A2286.jpg</td>\n",
       "      <td>0</td>\n",
       "    </tr>\n",
       "    <tr>\n",
       "      <th>2</th>\n",
       "      <td>../data/asl_data/asl_alphabet_train/A/A1957.jpg</td>\n",
       "      <td>0</td>\n",
       "    </tr>\n",
       "    <tr>\n",
       "      <th>3</th>\n",
       "      <td>../data/asl_data/asl_alphabet_train/A/A618.jpg</td>\n",
       "      <td>0</td>\n",
       "    </tr>\n",
       "    <tr>\n",
       "      <th>4</th>\n",
       "      <td>../data/asl_data/asl_alphabet_train/A/A1943.jpg</td>\n",
       "      <td>0</td>\n",
       "    </tr>\n",
       "  </tbody>\n",
       "</table>\n",
       "</div>"
      ],
      "text/plain": [
       "                                          filename  category\n",
       "0    ../data/asl_data/asl_alphabet_train/A/A25.jpg         0\n",
       "1  ../data/asl_data/asl_alphabet_train/A/A2286.jpg         0\n",
       "2  ../data/asl_data/asl_alphabet_train/A/A1957.jpg         0\n",
       "3   ../data/asl_data/asl_alphabet_train/A/A618.jpg         0\n",
       "4  ../data/asl_data/asl_alphabet_train/A/A1943.jpg         0"
      ]
     },
     "execution_count": 10,
     "metadata": {},
     "output_type": "execute_result"
    }
   ],
   "source": [
    "df.info()\n",
    "df.head()"
   ]
  },
  {
   "cell_type": "code",
   "execution_count": 11,
   "id": "c27dd2394f5238e7",
   "metadata": {
    "ExecuteTime": {
     "end_time": "2023-11-29T11:11:48.831238Z",
     "start_time": "2023-11-29T11:11:48.819931Z"
    }
   },
   "outputs": [
    {
     "name": "stdout",
     "output_type": "stream",
     "text": [
      "<class 'pandas.core.frame.DataFrame'>\n",
      "RangeIndex: 75000 entries, 0 to 74999\n",
      "Data columns (total 2 columns):\n",
      " #   Column    Non-Null Count  Dtype \n",
      "---  ------    --------------  ----- \n",
      " 0   filename  75000 non-null  object\n",
      " 1   category  75000 non-null  int64 \n",
      "dtypes: int64(1), object(1)\n",
      "memory usage: 1.1+ MB\n"
     ]
    },
    {
     "data": {
      "text/html": [
       "<div>\n",
       "<style scoped>\n",
       "    .dataframe tbody tr th:only-of-type {\n",
       "        vertical-align: middle;\n",
       "    }\n",
       "\n",
       "    .dataframe tbody tr th {\n",
       "        vertical-align: top;\n",
       "    }\n",
       "\n",
       "    .dataframe thead th {\n",
       "        text-align: right;\n",
       "    }\n",
       "</style>\n",
       "<table border=\"1\" class=\"dataframe\">\n",
       "  <thead>\n",
       "    <tr style=\"text-align: right;\">\n",
       "      <th></th>\n",
       "      <th>filename</th>\n",
       "      <th>category</th>\n",
       "    </tr>\n",
       "  </thead>\n",
       "  <tbody>\n",
       "    <tr>\n",
       "      <th>0</th>\n",
       "      <td>../data/asl_data/asl_alphabet_train/M/M1110.jpg</td>\n",
       "      <td>12</td>\n",
       "    </tr>\n",
       "    <tr>\n",
       "      <th>1</th>\n",
       "      <td>../data/asl_data/asl_alphabet_train/F/F1408.jpg</td>\n",
       "      <td>5</td>\n",
       "    </tr>\n",
       "    <tr>\n",
       "      <th>2</th>\n",
       "      <td>../data/asl_data/asl_alphabet_train/T/T1978.jpg</td>\n",
       "      <td>19</td>\n",
       "    </tr>\n",
       "    <tr>\n",
       "      <th>3</th>\n",
       "      <td>../data/asl_data/asl_alphabet_train/Y/Y1686.jpg</td>\n",
       "      <td>24</td>\n",
       "    </tr>\n",
       "    <tr>\n",
       "      <th>4</th>\n",
       "      <td>../data/asl_data/asl_alphabet_train/E/E720.jpg</td>\n",
       "      <td>4</td>\n",
       "    </tr>\n",
       "  </tbody>\n",
       "</table>\n",
       "</div>"
      ],
      "text/plain": [
       "                                          filename  category\n",
       "0  ../data/asl_data/asl_alphabet_train/M/M1110.jpg        12\n",
       "1  ../data/asl_data/asl_alphabet_train/F/F1408.jpg         5\n",
       "2  ../data/asl_data/asl_alphabet_train/T/T1978.jpg        19\n",
       "3  ../data/asl_data/asl_alphabet_train/Y/Y1686.jpg        24\n",
       "4   ../data/asl_data/asl_alphabet_train/E/E720.jpg         4"
      ]
     },
     "execution_count": 11,
     "metadata": {},
     "output_type": "execute_result"
    }
   ],
   "source": [
    "shuffled_df.info()\n",
    "shuffled_df.head()"
   ]
  },
  {
   "cell_type": "code",
   "execution_count": 12,
   "id": "8bf5ed7582e3cd64",
   "metadata": {
    "ExecuteTime": {
     "end_time": "2023-11-29T11:11:51.696651Z",
     "start_time": "2023-11-29T11:11:51.688862Z"
    }
   },
   "outputs": [
    {
     "name": "stderr",
     "output_type": "stream",
     "text": [
      "/Users/ygao/.local/share/virtualenvs/untitled_folder-0Tc94yBB/lib/python3.9/site-packages/numpy/core/fromnumeric.py:59: FutureWarning: 'DataFrame.swapaxes' is deprecated and will be removed in a future version. Please use 'DataFrame.transpose' instead.\n",
      "  return bound(*args, **kwds)\n"
     ]
    }
   ],
   "source": [
    "#split into 5 subsets for future cross validation\n",
    "split_data = np.array_split(shuffled_df, 5)\n",
    "sub_df1, sub_df2, sub_df3, sub_df4, sub_df5 = split_data"
   ]
  },
  {
   "cell_type": "code",
   "execution_count": 13,
   "id": "acd986781155c1a2",
   "metadata": {
    "ExecuteTime": {
     "end_time": "2023-11-29T11:11:53.130430Z",
     "start_time": "2023-11-29T11:11:53.126485Z"
    }
   },
   "outputs": [
    {
     "name": "stdout",
     "output_type": "stream",
     "text": [
      "<class 'pandas.core.frame.DataFrame'>\n",
      "RangeIndex: 15000 entries, 60000 to 74999\n",
      "Data columns (total 2 columns):\n",
      " #   Column    Non-Null Count  Dtype \n",
      "---  ------    --------------  ----- \n",
      " 0   filename  15000 non-null  object\n",
      " 1   category  15000 non-null  int64 \n",
      "dtypes: int64(1), object(1)\n",
      "memory usage: 234.5+ KB\n"
     ]
    },
    {
     "data": {
      "text/html": [
       "<div>\n",
       "<style scoped>\n",
       "    .dataframe tbody tr th:only-of-type {\n",
       "        vertical-align: middle;\n",
       "    }\n",
       "\n",
       "    .dataframe tbody tr th {\n",
       "        vertical-align: top;\n",
       "    }\n",
       "\n",
       "    .dataframe thead th {\n",
       "        text-align: right;\n",
       "    }\n",
       "</style>\n",
       "<table border=\"1\" class=\"dataframe\">\n",
       "  <thead>\n",
       "    <tr style=\"text-align: right;\">\n",
       "      <th></th>\n",
       "      <th>filename</th>\n",
       "      <th>category</th>\n",
       "    </tr>\n",
       "  </thead>\n",
       "  <tbody>\n",
       "    <tr>\n",
       "      <th>60000</th>\n",
       "      <td>../data/asl_data/asl_alphabet_train/F/F2399.jpg</td>\n",
       "      <td>5</td>\n",
       "    </tr>\n",
       "    <tr>\n",
       "      <th>60001</th>\n",
       "      <td>../data/asl_data/asl_alphabet_train/M/M355.jpg</td>\n",
       "      <td>12</td>\n",
       "    </tr>\n",
       "    <tr>\n",
       "      <th>60002</th>\n",
       "      <td>../data/asl_data/asl_alphabet_train/O/O1160.jpg</td>\n",
       "      <td>14</td>\n",
       "    </tr>\n",
       "    <tr>\n",
       "      <th>60003</th>\n",
       "      <td>../data/asl_data/asl_alphabet_train/O/O478.jpg</td>\n",
       "      <td>14</td>\n",
       "    </tr>\n",
       "    <tr>\n",
       "      <th>60004</th>\n",
       "      <td>../data/asl_data/asl_alphabet_train/C/C2885.jpg</td>\n",
       "      <td>2</td>\n",
       "    </tr>\n",
       "  </tbody>\n",
       "</table>\n",
       "</div>"
      ],
      "text/plain": [
       "                                              filename  category\n",
       "60000  ../data/asl_data/asl_alphabet_train/F/F2399.jpg         5\n",
       "60001   ../data/asl_data/asl_alphabet_train/M/M355.jpg        12\n",
       "60002  ../data/asl_data/asl_alphabet_train/O/O1160.jpg        14\n",
       "60003   ../data/asl_data/asl_alphabet_train/O/O478.jpg        14\n",
       "60004  ../data/asl_data/asl_alphabet_train/C/C2885.jpg         2"
      ]
     },
     "execution_count": 13,
     "metadata": {},
     "output_type": "execute_result"
    }
   ],
   "source": [
    "sub_df5.info()\n",
    "sub_df5.head()"
   ]
  },
  {
   "cell_type": "code",
   "execution_count": 26,
   "id": "2a5c83078e54f903",
   "metadata": {
    "ExecuteTime": {
     "end_time": "2023-11-29T11:28:40.335175Z",
     "start_time": "2023-11-29T11:28:32.641246Z"
    }
   },
   "outputs": [],
   "source": [
    "sub_df5['greyscale'] = sub_df5['filename'].apply(image_to_grey_array)\n",
    "sub_df5 = sub_df5.rename(index = lambda x: x-60000)"
   ]
  },
  {
   "cell_type": "code",
   "execution_count": 27,
   "id": "5dc126f2ba20d07f",
   "metadata": {
    "ExecuteTime": {
     "end_time": "2023-11-29T11:28:49.736617Z",
     "start_time": "2023-11-29T11:28:49.731299Z"
    }
   },
   "outputs": [
    {
     "data": {
      "text/html": [
       "<div>\n",
       "<style scoped>\n",
       "    .dataframe tbody tr th:only-of-type {\n",
       "        vertical-align: middle;\n",
       "    }\n",
       "\n",
       "    .dataframe tbody tr th {\n",
       "        vertical-align: top;\n",
       "    }\n",
       "\n",
       "    .dataframe thead th {\n",
       "        text-align: right;\n",
       "    }\n",
       "</style>\n",
       "<table border=\"1\" class=\"dataframe\">\n",
       "  <thead>\n",
       "    <tr style=\"text-align: right;\">\n",
       "      <th></th>\n",
       "      <th>filename</th>\n",
       "      <th>category</th>\n",
       "      <th>greyscale</th>\n",
       "    </tr>\n",
       "  </thead>\n",
       "  <tbody>\n",
       "    <tr>\n",
       "      <th>0</th>\n",
       "      <td>../data/asl_data/asl_alphabet_train/F/F2399.jpg</td>\n",
       "      <td>5</td>\n",
       "      <td>[31, 28, 31, 30, 29, 29, 29, 29, 30, 29, 28, 3...</td>\n",
       "    </tr>\n",
       "    <tr>\n",
       "      <th>1</th>\n",
       "      <td>../data/asl_data/asl_alphabet_train/M/M355.jpg</td>\n",
       "      <td>12</td>\n",
       "      <td>[32, 32, 28, 29, 29, 32, 29, 30, 29, 29, 30, 3...</td>\n",
       "    </tr>\n",
       "    <tr>\n",
       "      <th>2</th>\n",
       "      <td>../data/asl_data/asl_alphabet_train/O/O1160.jpg</td>\n",
       "      <td>14</td>\n",
       "      <td>[28, 32, 30, 29, 32, 28, 27, 29, 29, 30, 29, 2...</td>\n",
       "    </tr>\n",
       "    <tr>\n",
       "      <th>3</th>\n",
       "      <td>../data/asl_data/asl_alphabet_train/O/O478.jpg</td>\n",
       "      <td>14</td>\n",
       "      <td>[33, 31, 29, 28, 32, 29, 28, 29, 28, 29, 29, 3...</td>\n",
       "    </tr>\n",
       "    <tr>\n",
       "      <th>4</th>\n",
       "      <td>../data/asl_data/asl_alphabet_train/C/C2885.jpg</td>\n",
       "      <td>2</td>\n",
       "      <td>[32, 28, 31, 28, 30, 28, 29, 27, 29, 29, 29, 3...</td>\n",
       "    </tr>\n",
       "  </tbody>\n",
       "</table>\n",
       "</div>"
      ],
      "text/plain": [
       "                                          filename  category  \\\n",
       "0  ../data/asl_data/asl_alphabet_train/F/F2399.jpg         5   \n",
       "1   ../data/asl_data/asl_alphabet_train/M/M355.jpg        12   \n",
       "2  ../data/asl_data/asl_alphabet_train/O/O1160.jpg        14   \n",
       "3   ../data/asl_data/asl_alphabet_train/O/O478.jpg        14   \n",
       "4  ../data/asl_data/asl_alphabet_train/C/C2885.jpg         2   \n",
       "\n",
       "                                           greyscale  \n",
       "0  [31, 28, 31, 30, 29, 29, 29, 29, 30, 29, 28, 3...  \n",
       "1  [32, 32, 28, 29, 29, 32, 29, 30, 29, 29, 30, 3...  \n",
       "2  [28, 32, 30, 29, 32, 28, 27, 29, 29, 30, 29, 2...  \n",
       "3  [33, 31, 29, 28, 32, 29, 28, 29, 28, 29, 29, 3...  \n",
       "4  [32, 28, 31, 28, 30, 28, 29, 27, 29, 29, 29, 3...  "
      ]
     },
     "execution_count": 27,
     "metadata": {},
     "output_type": "execute_result"
    }
   ],
   "source": [
    "sub_df5.head()"
   ]
  },
  {
   "cell_type": "code",
   "execution_count": 28,
   "id": "5cca80b09359cec2",
   "metadata": {
    "ExecuteTime": {
     "end_time": "2023-11-29T11:28:59.991250Z",
     "start_time": "2023-11-29T11:28:54.290284Z"
    }
   },
   "outputs": [
    {
     "data": {
      "text/html": [
       "<div>\n",
       "<style scoped>\n",
       "    .dataframe tbody tr th:only-of-type {\n",
       "        vertical-align: middle;\n",
       "    }\n",
       "\n",
       "    .dataframe tbody tr th {\n",
       "        vertical-align: top;\n",
       "    }\n",
       "\n",
       "    .dataframe thead th {\n",
       "        text-align: right;\n",
       "    }\n",
       "</style>\n",
       "<table border=\"1\" class=\"dataframe\">\n",
       "  <thead>\n",
       "    <tr style=\"text-align: right;\">\n",
       "      <th></th>\n",
       "      <th>pixel_0</th>\n",
       "      <th>pixel_1</th>\n",
       "      <th>pixel_2</th>\n",
       "      <th>pixel_3</th>\n",
       "      <th>pixel_4</th>\n",
       "      <th>pixel_5</th>\n",
       "      <th>pixel_6</th>\n",
       "      <th>pixel_7</th>\n",
       "      <th>pixel_8</th>\n",
       "      <th>pixel_9</th>\n",
       "      <th>...</th>\n",
       "      <th>pixel_39990</th>\n",
       "      <th>pixel_39991</th>\n",
       "      <th>pixel_39992</th>\n",
       "      <th>pixel_39993</th>\n",
       "      <th>pixel_39994</th>\n",
       "      <th>pixel_39995</th>\n",
       "      <th>pixel_39996</th>\n",
       "      <th>pixel_39997</th>\n",
       "      <th>pixel_39998</th>\n",
       "      <th>pixel_39999</th>\n",
       "    </tr>\n",
       "  </thead>\n",
       "  <tbody>\n",
       "    <tr>\n",
       "      <th>0</th>\n",
       "      <td>31</td>\n",
       "      <td>28</td>\n",
       "      <td>31</td>\n",
       "      <td>30</td>\n",
       "      <td>29</td>\n",
       "      <td>29</td>\n",
       "      <td>29</td>\n",
       "      <td>29</td>\n",
       "      <td>30</td>\n",
       "      <td>29</td>\n",
       "      <td>...</td>\n",
       "      <td>29</td>\n",
       "      <td>28</td>\n",
       "      <td>28</td>\n",
       "      <td>30</td>\n",
       "      <td>29</td>\n",
       "      <td>27</td>\n",
       "      <td>32</td>\n",
       "      <td>27</td>\n",
       "      <td>29</td>\n",
       "      <td>30</td>\n",
       "    </tr>\n",
       "    <tr>\n",
       "      <th>1</th>\n",
       "      <td>32</td>\n",
       "      <td>32</td>\n",
       "      <td>28</td>\n",
       "      <td>29</td>\n",
       "      <td>29</td>\n",
       "      <td>32</td>\n",
       "      <td>29</td>\n",
       "      <td>30</td>\n",
       "      <td>29</td>\n",
       "      <td>29</td>\n",
       "      <td>...</td>\n",
       "      <td>29</td>\n",
       "      <td>29</td>\n",
       "      <td>29</td>\n",
       "      <td>27</td>\n",
       "      <td>30</td>\n",
       "      <td>29</td>\n",
       "      <td>28</td>\n",
       "      <td>30</td>\n",
       "      <td>30</td>\n",
       "      <td>28</td>\n",
       "    </tr>\n",
       "    <tr>\n",
       "      <th>2</th>\n",
       "      <td>28</td>\n",
       "      <td>32</td>\n",
       "      <td>30</td>\n",
       "      <td>29</td>\n",
       "      <td>32</td>\n",
       "      <td>28</td>\n",
       "      <td>27</td>\n",
       "      <td>29</td>\n",
       "      <td>29</td>\n",
       "      <td>30</td>\n",
       "      <td>...</td>\n",
       "      <td>29</td>\n",
       "      <td>28</td>\n",
       "      <td>31</td>\n",
       "      <td>27</td>\n",
       "      <td>30</td>\n",
       "      <td>29</td>\n",
       "      <td>26</td>\n",
       "      <td>28</td>\n",
       "      <td>30</td>\n",
       "      <td>28</td>\n",
       "    </tr>\n",
       "    <tr>\n",
       "      <th>3</th>\n",
       "      <td>33</td>\n",
       "      <td>31</td>\n",
       "      <td>29</td>\n",
       "      <td>28</td>\n",
       "      <td>32</td>\n",
       "      <td>29</td>\n",
       "      <td>28</td>\n",
       "      <td>29</td>\n",
       "      <td>28</td>\n",
       "      <td>29</td>\n",
       "      <td>...</td>\n",
       "      <td>29</td>\n",
       "      <td>30</td>\n",
       "      <td>27</td>\n",
       "      <td>31</td>\n",
       "      <td>29</td>\n",
       "      <td>28</td>\n",
       "      <td>30</td>\n",
       "      <td>31</td>\n",
       "      <td>29</td>\n",
       "      <td>29</td>\n",
       "    </tr>\n",
       "    <tr>\n",
       "      <th>4</th>\n",
       "      <td>32</td>\n",
       "      <td>28</td>\n",
       "      <td>31</td>\n",
       "      <td>28</td>\n",
       "      <td>30</td>\n",
       "      <td>28</td>\n",
       "      <td>29</td>\n",
       "      <td>27</td>\n",
       "      <td>29</td>\n",
       "      <td>29</td>\n",
       "      <td>...</td>\n",
       "      <td>29</td>\n",
       "      <td>29</td>\n",
       "      <td>29</td>\n",
       "      <td>29</td>\n",
       "      <td>28</td>\n",
       "      <td>30</td>\n",
       "      <td>31</td>\n",
       "      <td>27</td>\n",
       "      <td>28</td>\n",
       "      <td>29</td>\n",
       "    </tr>\n",
       "  </tbody>\n",
       "</table>\n",
       "<p>5 rows × 40000 columns</p>\n",
       "</div>"
      ],
      "text/plain": [
       "   pixel_0  pixel_1  pixel_2  pixel_3  pixel_4  pixel_5  pixel_6  pixel_7  \\\n",
       "0       31       28       31       30       29       29       29       29   \n",
       "1       32       32       28       29       29       32       29       30   \n",
       "2       28       32       30       29       32       28       27       29   \n",
       "3       33       31       29       28       32       29       28       29   \n",
       "4       32       28       31       28       30       28       29       27   \n",
       "\n",
       "   pixel_8  pixel_9  ...  pixel_39990  pixel_39991  pixel_39992  pixel_39993  \\\n",
       "0       30       29  ...           29           28           28           30   \n",
       "1       29       29  ...           29           29           29           27   \n",
       "2       29       30  ...           29           28           31           27   \n",
       "3       28       29  ...           29           30           27           31   \n",
       "4       29       29  ...           29           29           29           29   \n",
       "\n",
       "   pixel_39994  pixel_39995  pixel_39996  pixel_39997  pixel_39998  \\\n",
       "0           29           27           32           27           29   \n",
       "1           30           29           28           30           30   \n",
       "2           30           29           26           28           30   \n",
       "3           29           28           30           31           29   \n",
       "4           28           30           31           27           28   \n",
       "\n",
       "   pixel_39999  \n",
       "0           30  \n",
       "1           28  \n",
       "2           28  \n",
       "3           29  \n",
       "4           29  \n",
       "\n",
       "[5 rows x 40000 columns]"
      ]
     },
     "execution_count": 28,
     "metadata": {},
     "output_type": "execute_result"
    }
   ],
   "source": [
    "df5_imagePix = pd.DataFrame(sub_df5['greyscale'].apply(pd.Series).values, columns=[f'pixel_{i}' for i in range(len(sub_df5['greyscale'].iloc[0]))])\n",
    "\n",
    "df5_imagePix.head()"
   ]
  },
  {
   "cell_type": "code",
   "execution_count": 29,
   "id": "1f614acf1fbb1764",
   "metadata": {
    "ExecuteTime": {
     "end_time": "2023-11-29T11:29:15.558673Z",
     "start_time": "2023-11-29T11:29:15.539414Z"
    }
   },
   "outputs": [
    {
     "data": {
      "text/html": [
       "<div>\n",
       "<style scoped>\n",
       "    .dataframe tbody tr th:only-of-type {\n",
       "        vertical-align: middle;\n",
       "    }\n",
       "\n",
       "    .dataframe tbody tr th {\n",
       "        vertical-align: top;\n",
       "    }\n",
       "\n",
       "    .dataframe thead th {\n",
       "        text-align: right;\n",
       "    }\n",
       "</style>\n",
       "<table border=\"1\" class=\"dataframe\">\n",
       "  <thead>\n",
       "    <tr style=\"text-align: right;\">\n",
       "      <th></th>\n",
       "      <th>pixel_0</th>\n",
       "      <th>pixel_1</th>\n",
       "      <th>pixel_2</th>\n",
       "      <th>pixel_3</th>\n",
       "      <th>pixel_4</th>\n",
       "      <th>pixel_5</th>\n",
       "      <th>pixel_6</th>\n",
       "      <th>pixel_7</th>\n",
       "      <th>pixel_8</th>\n",
       "      <th>pixel_9</th>\n",
       "      <th>...</th>\n",
       "      <th>pixel_39991</th>\n",
       "      <th>pixel_39992</th>\n",
       "      <th>pixel_39993</th>\n",
       "      <th>pixel_39994</th>\n",
       "      <th>pixel_39995</th>\n",
       "      <th>pixel_39996</th>\n",
       "      <th>pixel_39997</th>\n",
       "      <th>pixel_39998</th>\n",
       "      <th>pixel_39999</th>\n",
       "      <th>category</th>\n",
       "    </tr>\n",
       "  </thead>\n",
       "  <tbody>\n",
       "    <tr>\n",
       "      <th>0</th>\n",
       "      <td>31</td>\n",
       "      <td>28</td>\n",
       "      <td>31</td>\n",
       "      <td>30</td>\n",
       "      <td>29</td>\n",
       "      <td>29</td>\n",
       "      <td>29</td>\n",
       "      <td>29</td>\n",
       "      <td>30</td>\n",
       "      <td>29</td>\n",
       "      <td>...</td>\n",
       "      <td>28</td>\n",
       "      <td>28</td>\n",
       "      <td>30</td>\n",
       "      <td>29</td>\n",
       "      <td>27</td>\n",
       "      <td>32</td>\n",
       "      <td>27</td>\n",
       "      <td>29</td>\n",
       "      <td>30</td>\n",
       "      <td>5</td>\n",
       "    </tr>\n",
       "    <tr>\n",
       "      <th>1</th>\n",
       "      <td>32</td>\n",
       "      <td>32</td>\n",
       "      <td>28</td>\n",
       "      <td>29</td>\n",
       "      <td>29</td>\n",
       "      <td>32</td>\n",
       "      <td>29</td>\n",
       "      <td>30</td>\n",
       "      <td>29</td>\n",
       "      <td>29</td>\n",
       "      <td>...</td>\n",
       "      <td>29</td>\n",
       "      <td>29</td>\n",
       "      <td>27</td>\n",
       "      <td>30</td>\n",
       "      <td>29</td>\n",
       "      <td>28</td>\n",
       "      <td>30</td>\n",
       "      <td>30</td>\n",
       "      <td>28</td>\n",
       "      <td>12</td>\n",
       "    </tr>\n",
       "    <tr>\n",
       "      <th>2</th>\n",
       "      <td>28</td>\n",
       "      <td>32</td>\n",
       "      <td>30</td>\n",
       "      <td>29</td>\n",
       "      <td>32</td>\n",
       "      <td>28</td>\n",
       "      <td>27</td>\n",
       "      <td>29</td>\n",
       "      <td>29</td>\n",
       "      <td>30</td>\n",
       "      <td>...</td>\n",
       "      <td>28</td>\n",
       "      <td>31</td>\n",
       "      <td>27</td>\n",
       "      <td>30</td>\n",
       "      <td>29</td>\n",
       "      <td>26</td>\n",
       "      <td>28</td>\n",
       "      <td>30</td>\n",
       "      <td>28</td>\n",
       "      <td>14</td>\n",
       "    </tr>\n",
       "    <tr>\n",
       "      <th>3</th>\n",
       "      <td>33</td>\n",
       "      <td>31</td>\n",
       "      <td>29</td>\n",
       "      <td>28</td>\n",
       "      <td>32</td>\n",
       "      <td>29</td>\n",
       "      <td>28</td>\n",
       "      <td>29</td>\n",
       "      <td>28</td>\n",
       "      <td>29</td>\n",
       "      <td>...</td>\n",
       "      <td>30</td>\n",
       "      <td>27</td>\n",
       "      <td>31</td>\n",
       "      <td>29</td>\n",
       "      <td>28</td>\n",
       "      <td>30</td>\n",
       "      <td>31</td>\n",
       "      <td>29</td>\n",
       "      <td>29</td>\n",
       "      <td>14</td>\n",
       "    </tr>\n",
       "    <tr>\n",
       "      <th>4</th>\n",
       "      <td>32</td>\n",
       "      <td>28</td>\n",
       "      <td>31</td>\n",
       "      <td>28</td>\n",
       "      <td>30</td>\n",
       "      <td>28</td>\n",
       "      <td>29</td>\n",
       "      <td>27</td>\n",
       "      <td>29</td>\n",
       "      <td>29</td>\n",
       "      <td>...</td>\n",
       "      <td>29</td>\n",
       "      <td>29</td>\n",
       "      <td>29</td>\n",
       "      <td>28</td>\n",
       "      <td>30</td>\n",
       "      <td>31</td>\n",
       "      <td>27</td>\n",
       "      <td>28</td>\n",
       "      <td>29</td>\n",
       "      <td>2</td>\n",
       "    </tr>\n",
       "  </tbody>\n",
       "</table>\n",
       "<p>5 rows × 40001 columns</p>\n",
       "</div>"
      ],
      "text/plain": [
       "   pixel_0  pixel_1  pixel_2  pixel_3  pixel_4  pixel_5  pixel_6  pixel_7  \\\n",
       "0       31       28       31       30       29       29       29       29   \n",
       "1       32       32       28       29       29       32       29       30   \n",
       "2       28       32       30       29       32       28       27       29   \n",
       "3       33       31       29       28       32       29       28       29   \n",
       "4       32       28       31       28       30       28       29       27   \n",
       "\n",
       "   pixel_8  pixel_9  ...  pixel_39991  pixel_39992  pixel_39993  pixel_39994  \\\n",
       "0       30       29  ...           28           28           30           29   \n",
       "1       29       29  ...           29           29           27           30   \n",
       "2       29       30  ...           28           31           27           30   \n",
       "3       28       29  ...           30           27           31           29   \n",
       "4       29       29  ...           29           29           29           28   \n",
       "\n",
       "   pixel_39995  pixel_39996  pixel_39997  pixel_39998  pixel_39999  category  \n",
       "0           27           32           27           29           30         5  \n",
       "1           29           28           30           30           28        12  \n",
       "2           29           26           28           30           28        14  \n",
       "3           28           30           31           29           29        14  \n",
       "4           30           31           27           28           29         2  \n",
       "\n",
       "[5 rows x 40001 columns]"
      ]
     },
     "execution_count": 29,
     "metadata": {},
     "output_type": "execute_result"
    }
   ],
   "source": [
    "df5_imagePix['category'] = sub_df5['category']\n",
    "df5_imagePix.head()"
   ]
  },
  {
   "cell_type": "code",
   "execution_count": 31,
   "id": "5c6cff83a56f19a4",
   "metadata": {
    "ExecuteTime": {
     "end_time": "2023-11-29T11:33:30.048386Z",
     "start_time": "2023-11-29T11:33:29.779744Z"
    }
   },
   "outputs": [
    {
     "name": "stdout",
     "output_type": "stream",
     "text": [
      "5\n"
     ]
    },
    {
     "data": {
      "text/plain": [
       "<matplotlib.image.AxesImage at 0x15a618100>"
      ]
     },
     "execution_count": 31,
     "metadata": {},
     "output_type": "execute_result"
    },
    {
     "data": {
      "image/png": "[encoded data removed]",
      "text/plain": [
       "<Figure size 640x480 with 1 Axes>"
      ]
     },
     "metadata": {},
     "output_type": "display_data"
    }
   ],
   "source": [
    "print(df5_imagePix['category'][0])\n",
    "plt.imshow(df5_imagePix.loc[0].drop('category').to_numpy().reshape((200,200)), cmap='gray')"
   ]
  },
  {
   "cell_type": "code",
   "execution_count": 1,
   "id": "c5fb4c86fd49c171",
   "metadata": {},
   "outputs": [
    {
     "ename": "ModuleNotFoundError",
     "evalue": "No module named 'keras'",
     "output_type": "error",
     "traceback": [
      "\u001b[0;31m---------------------------------------------------------------------------\u001b[0m",
      "\u001b[0;31mModuleNotFoundError\u001b[0m                       Traceback (most recent call last)",
      "Cell \u001b[0;32mIn[1], line 1\u001b[0m\n\u001b[0;32m----> 1\u001b[0m \u001b[38;5;28;01mfrom\u001b[39;00m \u001b[38;5;21;01mkeras\u001b[39;00m\u001b[38;5;21;01m.\u001b[39;00m\u001b[38;5;21;01mmodels\u001b[39;00m \u001b[38;5;28;01mimport\u001b[39;00m Sequential\n",
      "\u001b[0;31mModuleNotFoundError\u001b[0m: No module named 'keras'"
     ]
    }
   ],
   "source": [
    "from keras.models import Sequential"
   ]
  },
  {
   "cell_type": "code",
   "execution_count": null,
   "id": "03351a45",
   "metadata": {},
   "outputs": [],
   "source": []
  }
 ],
 "metadata": {
  "kernelspec": {
   "display_name": "mlp_uf_py3_9",
   "language": "python",
   "name": "mlp_uf_py3_9"
  },
  "language_info": {
   "codemirror_mode": {
    "name": "ipython",
    "version": 3
   },
   "file_extension": ".py",
   "mimetype": "text/x-python",
   "name": "python",
   "nbconvert_exporter": "python",
   "pygments_lexer": "ipython3",
   "version": "3.9.6"
  }
 },
 "nbformat": 4,
 "nbformat_minor": 5
}
