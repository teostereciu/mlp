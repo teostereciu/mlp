{
 "cells": [
  {
   "cell_type": "markdown",
   "source": [
    "# Baseline model\n",
    "In this notebook we explore our options for a baseline model. We also look at what preprocessing steps are needed."
   ],
   "metadata": {
    "collapsed": false
   },
   "id": "d132c6f1ea4aa6dd"
  },
  {
   "cell_type": "code",
   "execution_count": 2,
   "outputs": [],
   "source": [
    "import pandas as pd\n",
    "import numpy as np\n",
    "import os\n",
    "\n",
    "RANDOM_SEED = 21223"
   ],
   "metadata": {
    "collapsed": false,
    "ExecuteTime": {
     "end_time": "2023-12-05T13:12:33.788849Z",
     "start_time": "2023-12-05T13:12:33.719656Z"
    }
   },
   "id": "4fccdfe32ca19096"
  },
  {
   "cell_type": "markdown",
   "source": [
    "Unzip dataset"
   ],
   "metadata": {
    "collapsed": false
   },
   "id": "f48bdda2c0a82d19"
  },
  {
   "cell_type": "code",
   "execution_count": 3,
   "id": "initial_id",
   "metadata": {
    "collapsed": true,
    "ExecuteTime": {
     "end_time": "2023-12-05T13:12:33.790582Z",
     "start_time": "2023-12-05T13:12:33.727746Z"
    }
   },
   "outputs": [
    {
     "name": "stdout",
     "output_type": "stream",
     "text": [
      "The directory ../data/asl_train already exists. Skipped unzipping.\n",
      "The directory ../data/asl_test already exists. Skipped unzipping.\n"
     ]
    }
   ],
   "source": [
    "from zipfile import ZipFile\n",
    "dir_path = \"../data\"\n",
    "train_path = dir_path + \"/asl_train\"\n",
    "test_path = dir_path + \"/asl_test\"\n",
    "\n",
    "def unzip_if_not_exists(zip_file_path, extract_to_path):\n",
    "    # check if the target directory already exists\n",
    "    if not os.path.exists(extract_to_path):\n",
    "        # create the directory if it doesn't exist\n",
    "        os.makedirs(extract_to_path)\n",
    "        # unzip the contents\n",
    "        with ZipFile(zip_file_path, 'r') as zip_ref:\n",
    "            zip_ref.extractall(extract_to_path)\n",
    "        print(f\"Successfully unzipped to {extract_to_path}\")\n",
    "    else:\n",
    "        print(f\"The directory {extract_to_path} already exists. Skipped unzipping.\")\n",
    "\n",
    "unzip_if_not_exists(dir_path + \"/asl_alphabet_train.zip\", train_path)\n",
    "unzip_if_not_exists(dir_path + \"/asl_alphabet_test.zip\", test_path)"
   ]
  },
  {
   "cell_type": "markdown",
   "source": [
    "Store all data in a pandas df"
   ],
   "metadata": {
    "collapsed": false
   },
   "id": "f4905bfaa71d3f05"
  },
  {
   "cell_type": "code",
   "execution_count": 4,
   "outputs": [],
   "source": [
    "train_path += \"/asl_alphabet_train/\"\n",
    "test_path += \"/asl_alphabet_test/\"\n",
    "\n",
    "# map alphabet to numbers\n",
    "categories = {  0: \"A\",\n",
    "                1: \"B\",\n",
    "                2: \"C\",\n",
    "                3: \"D\",\n",
    "                4: \"E\",\n",
    "                5: \"F\",\n",
    "                6: \"G\",\n",
    "                7: \"H\",\n",
    "                8: \"I\",\n",
    "                9: \"K\",\n",
    "                10: \"L\",\n",
    "                11: \"M\",\n",
    "                12: \"N\",\n",
    "                13: \"O\",\n",
    "                14: \"P\",\n",
    "                15: \"Q\",\n",
    "                16: \"R\",\n",
    "                17: \"S\",\n",
    "                18: \"T\",\n",
    "                19: \"U\",\n",
    "                20: \"V\",\n",
    "                21: \"W\",\n",
    "                22: \"X\",\n",
    "                23: \"Y\",\n",
    "            }\n",
    "\n",
    "def add_class_name_prefix(df, col_name):\n",
    "    df[col_name]\n",
    "    return df\n",
    "\n",
    "# store all the file names in the dataset\n",
    "filenames = []\n",
    "# store the corresponding class for each file\n",
    "target = []\n",
    "\n",
    "for category in categories:\n",
    "    files = os.listdir(train_path + categories[category])\n",
    "    filenames += files\n",
    "    target += [category] * len(files)\n",
    "\n",
    "df = pd.DataFrame({\"filename\": filenames, \"category\": target})\n",
    "df = add_class_name_prefix(df, \"filename\")\n",
    "\n",
    "# shuffle the dataframe\n",
    "df = df.sample(frac=1, random_state=RANDOM_SEED).reset_index(drop=True)"
   ],
   "metadata": {
    "collapsed": false,
    "ExecuteTime": {
     "end_time": "2023-12-05T13:12:33.969367Z",
     "start_time": "2023-12-05T13:12:33.737387Z"
    }
   },
   "id": "a3cc407b34b5210f"
  },
  {
   "cell_type": "markdown",
   "source": [
    "check it out"
   ],
   "metadata": {
    "collapsed": false
   },
   "id": "2184f032fabc2aa9"
  },
  {
   "cell_type": "code",
   "execution_count": 5,
   "outputs": [
    {
     "name": "stdout",
     "output_type": "stream",
     "text": [
      "<class 'pandas.core.frame.DataFrame'>\n",
      "RangeIndex: 72000 entries, 0 to 71999\n",
      "Data columns (total 2 columns):\n",
      " #   Column    Non-Null Count  Dtype \n",
      "---  ------    --------------  ----- \n",
      " 0   filename  72000 non-null  object\n",
      " 1   category  72000 non-null  int64 \n",
      "dtypes: int64(1), object(1)\n",
      "memory usage: 1.1+ MB\n"
     ]
    },
    {
     "data": {
      "text/plain": "    filename  category\n0  V1957.jpg        20\n1  M2695.jpg        11\n2   C705.jpg         2\n3  T1148.jpg        18\n4   P600.jpg        14",
      "text/html": "<div>\n<style scoped>\n    .dataframe tbody tr th:only-of-type {\n        vertical-align: middle;\n    }\n\n    .dataframe tbody tr th {\n        vertical-align: top;\n    }\n\n    .dataframe thead th {\n        text-align: right;\n    }\n</style>\n<table border=\"1\" class=\"dataframe\">\n  <thead>\n    <tr style=\"text-align: right;\">\n      <th></th>\n      <th>filename</th>\n      <th>category</th>\n    </tr>\n  </thead>\n  <tbody>\n    <tr>\n      <th>0</th>\n      <td>V1957.jpg</td>\n      <td>20</td>\n    </tr>\n    <tr>\n      <th>1</th>\n      <td>M2695.jpg</td>\n      <td>11</td>\n    </tr>\n    <tr>\n      <th>2</th>\n      <td>C705.jpg</td>\n      <td>2</td>\n    </tr>\n    <tr>\n      <th>3</th>\n      <td>T1148.jpg</td>\n      <td>18</td>\n    </tr>\n    <tr>\n      <th>4</th>\n      <td>P600.jpg</td>\n      <td>14</td>\n    </tr>\n  </tbody>\n</table>\n</div>"
     },
     "execution_count": 5,
     "metadata": {},
     "output_type": "execute_result"
    }
   ],
   "source": [
    "df.info()\n",
    "df.head()"
   ],
   "metadata": {
    "collapsed": false,
    "ExecuteTime": {
     "end_time": "2023-12-05T13:12:33.993735Z",
     "start_time": "2023-12-05T13:12:33.969881Z"
    }
   },
   "id": "8681b877bfc771dd"
  },
  {
   "cell_type": "markdown",
   "source": [
    "sample a smaller dataset. split into train and test."
   ],
   "metadata": {
    "collapsed": false
   },
   "id": "da7942553b3bcf26"
  },
  {
   "cell_type": "code",
   "execution_count": 6,
   "outputs": [
    {
     "name": "stdout",
     "output_type": "stream",
     "text": [
      "(1920, 2)\n",
      "(480, 2)\n"
     ]
    }
   ],
   "source": [
    "n = 100\n",
    "n_train = int(n*0.8)\n",
    "\n",
    "# sample n random data points from each sign class\n",
    "df_small = df.groupby('category', group_keys=False).apply(lambda x: x.sample(n, ignore_index=True, random_state=RANDOM_SEED))\n",
    "\n",
    "# sample n_train % of the small df for the train set\n",
    "df_train = df.groupby('category', group_keys=False).apply(lambda x: x.sample(n_train, ignore_index=True, random_state=RANDOM_SEED))\n",
    "\n",
    "# shuffle train set\n",
    "df_train = df_train.sample(frac=1).reset_index(drop=True)\n",
    "\n",
    "# obtain test set from remaining points in the small df\n",
    "df_test = pd.merge(df_small, df_train, how='left', indicator=True)\n",
    "df_test = df_test[df_test['_merge'] == 'left_only'].drop(columns=['_merge']).reset_index(drop=True)\n",
    "\n",
    "print(df_train.shape)\n",
    "print(df_test.shape)"
   ],
   "metadata": {
    "collapsed": false,
    "ExecuteTime": {
     "end_time": "2023-12-05T13:12:34.068786Z",
     "start_time": "2023-12-05T13:12:33.996224Z"
    }
   },
   "id": "8f36c13ce1490d86"
  },
  {
   "cell_type": "markdown",
   "source": [
    "Preprocessing steps:\n",
    "- Grayscale\n",
    "- Flatten to 1D\n",
    "- Normalize pixel values to 0-1\n",
    "- Feature extraction/Dimensionality reduction -> TBD"
   ],
   "metadata": {
    "collapsed": false
   },
   "id": "72668d1aca9dfffe"
  },
  {
   "cell_type": "code",
   "execution_count": 7,
   "outputs": [],
   "source": [
    "from PIL import Image\n",
    "\n",
    "# preprocess each row in the dataframes\n",
    "def process_row(row):\n",
    "    filename = row[\"filename\"]\n",
    "    label = row[\"category\"]\n",
    "    # load\n",
    "    image = Image.open(train_path + \"/\" + categories[label] + \"/\" + filename)\n",
    "    # convert to grayscale\n",
    "    gray_image = image.convert('L')\n",
    "    # convert to 2d tensor\n",
    "    image_arr = np.array(gray_image)\n",
    "    # normalize to 0-1 range\n",
    "    normalized_arr = image_arr / 255\n",
    "    # flatten 2d tensor to 1d array\n",
    "    flat_image = normalized_arr.ravel()\n",
    "    new_row = {'image_array': flat_image, 'label': label}\n",
    "    return new_row\n",
    "\n",
    "df_train_processed = df_train.apply(process_row, axis=1, result_type=\"expand\")\n",
    "df_test_processed = df_test.apply(process_row, axis=1, result_type=\"expand\")"
   ],
   "metadata": {
    "collapsed": false,
    "ExecuteTime": {
     "end_time": "2023-12-05T13:12:37.001022Z",
     "start_time": "2023-12-05T13:12:34.031067Z"
    }
   },
   "id": "cd8868e10e78589a"
  },
  {
   "cell_type": "code",
   "execution_count": 8,
   "outputs": [
    {
     "data": {
      "text/plain": "                                         image_array  label\n0  [0.12549019607843137, 0.11764705882352941, 0.1...      6\n1  [0.11764705882352941, 0.11764705882352941, 0.1...     19",
      "text/html": "<div>\n<style scoped>\n    .dataframe tbody tr th:only-of-type {\n        vertical-align: middle;\n    }\n\n    .dataframe tbody tr th {\n        vertical-align: top;\n    }\n\n    .dataframe thead th {\n        text-align: right;\n    }\n</style>\n<table border=\"1\" class=\"dataframe\">\n  <thead>\n    <tr style=\"text-align: right;\">\n      <th></th>\n      <th>image_array</th>\n      <th>label</th>\n    </tr>\n  </thead>\n  <tbody>\n    <tr>\n      <th>0</th>\n      <td>[0.12549019607843137, 0.11764705882352941, 0.1...</td>\n      <td>6</td>\n    </tr>\n    <tr>\n      <th>1</th>\n      <td>[0.11764705882352941, 0.11764705882352941, 0.1...</td>\n      <td>19</td>\n    </tr>\n  </tbody>\n</table>\n</div>"
     },
     "execution_count": 8,
     "metadata": {},
     "output_type": "execute_result"
    }
   ],
   "source": [
    "df_train_processed.head(2)"
   ],
   "metadata": {
    "collapsed": false,
    "ExecuteTime": {
     "end_time": "2023-12-05T13:12:37.003797Z",
     "start_time": "2023-12-05T13:12:36.999080Z"
    }
   },
   "id": "c46e1fc2178fec41"
  },
  {
   "cell_type": "markdown",
   "source": [
    "extract X and y from df"
   ],
   "metadata": {
    "collapsed": false
   },
   "id": "29a2f90a355649b2"
  },
  {
   "cell_type": "code",
   "execution_count": 9,
   "outputs": [
    {
     "name": "stdout",
     "output_type": "stream",
     "text": [
      "1920\n",
      "1920\n",
      "480\n",
      "480\n"
     ]
    }
   ],
   "source": [
    "X_train = np.array(df_train_processed['image_array'].tolist())\n",
    "y_train = np.array(df_train_processed['label'])\n",
    "\n",
    "X_test = np.array(df_test_processed['image_array'].tolist())\n",
    "y_test = np.array(df_test_processed['label'])\n",
    "\n",
    "print(len(X_train))\n",
    "print(len(y_train))\n",
    "print(len(X_test))\n",
    "print(len(y_test))"
   ],
   "metadata": {
    "collapsed": false,
    "ExecuteTime": {
     "end_time": "2023-12-05T13:12:37.674175Z",
     "start_time": "2023-12-05T13:12:37.001646Z"
    }
   },
   "id": "310d66f5f58f065b"
  },
  {
   "cell_type": "markdown",
   "source": [
    "at this point we have 1D arrays of all 40k pixels for each image"
   ],
   "metadata": {
    "collapsed": false
   },
   "id": "5a1de23400ad8d8a"
  },
  {
   "cell_type": "markdown",
   "source": [
    "we'll try training an autoencoder on these to obtain an encoding to feed to our baseline"
   ],
   "metadata": {
    "collapsed": false
   },
   "id": "60e8ab3922cbebf2"
  },
  {
   "cell_type": "code",
   "execution_count": 10,
   "outputs": [
    {
     "name": "stderr",
     "output_type": "stream",
     "text": [
      "/Users/teodorastereciu/.local/share/virtualenvs/mlp-1I_Jhwpa/lib/python3.8/site-packages/urllib3/__init__.py:34: NotOpenSSLWarning: urllib3 v2 only supports OpenSSL 1.1.1+, currently the 'ssl' module is compiled with 'LibreSSL 2.8.3'. See: https://github.com/urllib3/urllib3/issues/3020\n",
      "  warnings.warn(\n"
     ]
    }
   ],
   "source": [
    "from keras.models import Sequential\n",
    "from keras.layers import Dense\n",
    "from keras.callbacks import EarlyStopping\n",
    "\n",
    "original_dim = 200*200\n",
    "\n",
    "autoencoder = Sequential([\n",
    "    Dense(256, activation='relu', input_shape=(original_dim,)),\n",
    "    Dense(128, activation='relu'),\n",
    "    Dense(64, activation='relu'),\n",
    "    Dense(32, activation='relu'),\n",
    "    Dense(64, activation='relu'),\n",
    "    Dense(128, activation='relu'),\n",
    "    Dense(256, activation='relu'),\n",
    "    Dense(original_dim, activation='sigmoid')\n",
    "])\n",
    "\n",
    "autoencoder.compile(optimizer='adam', loss='mean_squared_error')"
   ],
   "metadata": {
    "collapsed": false,
    "ExecuteTime": {
     "end_time": "2023-12-05T13:13:39.122709Z",
     "start_time": "2023-12-05T13:13:13.572917Z"
    }
   },
   "id": "74c9e96eae78515d"
  },
  {
   "cell_type": "code",
   "execution_count": 11,
   "outputs": [
    {
     "name": "stdout",
     "output_type": "stream",
     "text": [
      "Model: \"sequential\"\n",
      "_________________________________________________________________\n",
      " Layer (type)                Output Shape              Param #   \n",
      "=================================================================\n",
      " dense (Dense)               (None, 256)               10240256  \n",
      "                                                                 \n",
      " dense_1 (Dense)             (None, 128)               32896     \n",
      "                                                                 \n",
      " dense_2 (Dense)             (None, 64)                8256      \n",
      "                                                                 \n",
      " dense_3 (Dense)             (None, 32)                2080      \n",
      "                                                                 \n",
      " dense_4 (Dense)             (None, 64)                2112      \n",
      "                                                                 \n",
      " dense_5 (Dense)             (None, 128)               8320      \n",
      "                                                                 \n",
      " dense_6 (Dense)             (None, 256)               33024     \n",
      "                                                                 \n",
      " dense_7 (Dense)             (None, 40000)             10280000  \n",
      "                                                                 \n",
      "=================================================================\n",
      "Total params: 20,606,944\n",
      "Trainable params: 20,606,944\n",
      "Non-trainable params: 0\n",
      "_________________________________________________________________\n"
     ]
    }
   ],
   "source": [
    "autoencoder.summary()"
   ],
   "metadata": {
    "collapsed": false,
    "ExecuteTime": {
     "end_time": "2023-12-05T13:14:27.464349Z",
     "start_time": "2023-12-05T13:14:27.440873Z"
    }
   },
   "id": "3b52eb7fe560e8ad"
  },
  {
   "cell_type": "code",
   "execution_count": 13,
   "outputs": [
    {
     "name": "stdout",
     "output_type": "stream",
     "text": [
      "Epoch 1/100\n"
     ]
    },
    {
     "name": "stderr",
     "output_type": "stream",
     "text": [
      "2023-12-05 14:15:11.549380: W tensorflow/core/platform/profile_utils/cpu_utils.cc:128] Failed to get CPU frequency: 0 Hz\n"
     ]
    },
    {
     "name": "stdout",
     "output_type": "stream",
     "text": [
      "48/48 [==============================] - 4s 62ms/step - loss: 0.0362 - val_loss: 0.0237\n",
      "Epoch 2/100\n",
      "48/48 [==============================] - 2s 48ms/step - loss: 0.0218 - val_loss: 0.0191\n",
      "Epoch 3/100\n",
      "48/48 [==============================] - 2s 45ms/step - loss: 0.0172 - val_loss: 0.0148\n",
      "Epoch 4/100\n",
      "48/48 [==============================] - 2s 49ms/step - loss: 0.0146 - val_loss: 0.0136\n",
      "Epoch 5/100\n",
      "48/48 [==============================] - 2s 47ms/step - loss: 0.0138 - val_loss: 0.0132\n",
      "Epoch 6/100\n",
      "48/48 [==============================] - 3s 54ms/step - loss: 0.0132 - val_loss: 0.0129\n",
      "Epoch 7/100\n",
      "48/48 [==============================] - 2s 46ms/step - loss: 0.0125 - val_loss: 0.0120\n",
      "Epoch 8/100\n",
      "48/48 [==============================] - 2s 47ms/step - loss: 0.0119 - val_loss: 0.0118\n",
      "Epoch 9/100\n",
      "48/48 [==============================] - 2s 47ms/step - loss: 0.0113 - val_loss: 0.0111\n",
      "Epoch 10/100\n",
      "48/48 [==============================] - 2s 48ms/step - loss: 0.0111 - val_loss: 0.0113\n",
      "Epoch 11/100\n",
      "48/48 [==============================] - 3s 54ms/step - loss: 0.0111 - val_loss: 0.0113\n",
      "Epoch 12/100\n",
      "48/48 [==============================] - 3s 52ms/step - loss: 0.0106 - val_loss: 0.0104\n",
      "Epoch 13/100\n",
      "48/48 [==============================] - 2s 49ms/step - loss: 0.0100 - val_loss: 0.0103\n",
      "Epoch 14/100\n",
      "48/48 [==============================] - 2s 51ms/step - loss: 0.0097 - val_loss: 0.0103\n",
      "Epoch 15/100\n",
      "48/48 [==============================] - 2s 50ms/step - loss: 0.0094 - val_loss: 0.0097\n",
      "Epoch 16/100\n",
      "48/48 [==============================] - 3s 65ms/step - loss: 0.0090 - val_loss: 0.0096\n",
      "Epoch 17/100\n",
      "48/48 [==============================] - 2s 51ms/step - loss: 0.0088 - val_loss: 0.0092\n",
      "Epoch 18/100\n",
      "48/48 [==============================] - 2s 47ms/step - loss: 0.0087 - val_loss: 0.0092\n",
      "Epoch 19/100\n",
      "48/48 [==============================] - 3s 52ms/step - loss: 0.0083 - val_loss: 0.0092\n",
      "Epoch 20/100\n",
      "48/48 [==============================] - 2s 49ms/step - loss: 0.0082 - val_loss: 0.0096\n",
      "Epoch 21/100\n",
      "48/48 [==============================] - 3s 53ms/step - loss: 0.0081 - val_loss: 0.0093\n",
      "Epoch 22/100\n",
      "48/48 [==============================] - 3s 62ms/step - loss: 0.0078 - val_loss: 0.0089\n",
      "Epoch 23/100\n",
      "48/48 [==============================] - 3s 61ms/step - loss: 0.0076 - val_loss: 0.0088\n",
      "Epoch 24/100\n",
      "48/48 [==============================] - 2s 51ms/step - loss: 0.0075 - val_loss: 0.0091\n",
      "Epoch 25/100\n",
      "48/48 [==============================] - 2s 51ms/step - loss: 0.0077 - val_loss: 0.0089\n",
      "Epoch 26/100\n",
      "48/48 [==============================] - 2s 49ms/step - loss: 0.0075 - val_loss: 0.0091\n",
      "Epoch 27/100\n",
      "48/48 [==============================] - 3s 52ms/step - loss: 0.0073 - val_loss: 0.0088\n",
      "Epoch 28/100\n",
      "48/48 [==============================] - 2s 51ms/step - loss: 0.0070 - val_loss: 0.0087\n",
      "Epoch 29/100\n",
      "48/48 [==============================] - 3s 53ms/step - loss: 0.0070 - val_loss: 0.0088\n",
      "Epoch 30/100\n",
      "48/48 [==============================] - 2s 51ms/step - loss: 0.0069 - val_loss: 0.0088\n",
      "Epoch 31/100\n",
      "48/48 [==============================] - 2s 51ms/step - loss: 0.0068 - val_loss: 0.0090\n",
      "Epoch 32/100\n",
      "48/48 [==============================] - 2s 49ms/step - loss: 0.0067 - val_loss: 0.0087\n",
      "Epoch 33/100\n",
      "48/48 [==============================] - 2s 48ms/step - loss: 0.0065 - val_loss: 0.0089\n"
     ]
    }
   ],
   "source": [
    "early_stopping = EarlyStopping(monitor='val_loss', patience=5)\n",
    "\n",
    "history = autoencoder.fit(\n",
    "    X_train,\n",
    "    X_train,\n",
    "    epochs=100,  \n",
    "    batch_size=32,\n",
    "    shuffle=True,\n",
    "    validation_split=0.2,\n",
    "    callbacks=[early_stopping]\n",
    ")"
   ],
   "metadata": {
    "collapsed": false,
    "ExecuteTime": {
     "end_time": "2023-12-05T13:16:33.787650Z",
     "start_time": "2023-12-05T13:15:09.563180Z"
    }
   },
   "id": "88ee3aa80349773a"
  },
  {
   "cell_type": "markdown",
   "source": [
    "we check for overfitting"
   ],
   "metadata": {
    "collapsed": false
   },
   "id": "2ae704cef31aa3da"
  },
  {
   "cell_type": "code",
   "execution_count": 14,
   "outputs": [
    {
     "data": {
      "text/plain": "<Figure size 640x480 with 1 Axes>",
      "image/png": "[encoded data removed]"
     },
     "metadata": {},
     "output_type": "display_data"
    }
   ],
   "source": [
    "import matplotlib.pyplot as plt\n",
    "\n",
    "# plot training vs validation loss\n",
    "plt.plot(history.history['loss'], label='Training Loss')\n",
    "plt.plot(history.history['val_loss'], label='Validation Loss')\n",
    "plt.xlabel('Epoch')\n",
    "plt.ylabel('Mean Squared Error')\n",
    "plt.title('Training vs Validation Loss')\n",
    "plt.legend()\n",
    "plt.show()"
   ],
   "metadata": {
    "collapsed": false,
    "ExecuteTime": {
     "end_time": "2023-12-05T13:16:59.242309Z",
     "start_time": "2023-12-05T13:16:58.948246Z"
    }
   },
   "id": "34b4111fdb4abfb1"
  },
  {
   "cell_type": "markdown",
   "source": [
    "now we supposedly obtained a 32D meaningful representation of the pictures. we'll use this to train an SVM"
   ],
   "metadata": {
    "collapsed": false
   },
   "id": "496bada8855ac8f8"
  },
  {
   "cell_type": "code",
   "execution_count": null,
   "outputs": [],
   "source": [
    "encoder = Sequential(autoencoder.layers[:4]) \n",
    "X_train_encoded = encoder.predict(X_train)\n",
    "X_test_encoded = encoder.predict(X_test)"
   ],
   "metadata": {
    "collapsed": false
   },
   "id": "776ea5c54c27ae81"
  },
  {
   "cell_type": "markdown",
   "source": [
    "let's see what a random image from the train set looks like originally and what it looks like encoded"
   ],
   "metadata": {
    "collapsed": false
   },
   "id": "f26d4f0e8c6dfb2c"
  },
  {
   "cell_type": "code",
   "execution_count": null,
   "outputs": [],
   "source": [],
   "metadata": {
    "collapsed": false
   },
   "id": "204c99d8e7a99b36"
  }
 ],
 "metadata": {
  "kernelspec": {
   "name": "conda-mlp",
   "language": "python",
   "display_name": "conda-mlp"
  },
  "language_info": {
   "codemirror_mode": {
    "name": "ipython",
    "version": 2
   },
   "file_extension": ".py",
   "mimetype": "text/x-python",
   "name": "python",
   "nbconvert_exporter": "python",
   "pygments_lexer": "ipython2",
   "version": "2.7.6"
  }
 },
 "nbformat": 4,
 "nbformat_minor": 5
}
