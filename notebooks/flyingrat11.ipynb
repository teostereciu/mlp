{
 "cells": [
  {
   "cell_type": "markdown",
   "source": [
    "See if things are configured correctly\n",
    "So far the kernel works -> python version 3.9\n",
    "importing necessary packages\n",
    "loading data -> works\n",
    "setting up data->class lists"
   ],
   "metadata": {
    "collapsed": false
   },
   "id": "66adba4dc4d25f3d"
  },
  {
   "cell_type": "code",
   "execution_count": 1,
   "outputs": [
    {
     "name": "stdout",
     "output_type": "stream",
     "text": [
      "Hello, World!\n"
     ]
    }
   ],
   "source": [
    "#seems like it's printing\n",
    "print(\"Hello, World!\")"
   ],
   "metadata": {
    "collapsed": false,
    "ExecuteTime": {
     "end_time": "2023-11-21T16:01:37.390341Z",
     "start_time": "2023-11-21T16:01:37.387728Z"
    }
   },
   "id": "e62151f3bf6ca078"
  },
  {
   "cell_type": "code",
   "execution_count": 6,
   "outputs": [],
   "source": [
    "import numpy as np\n",
    "import pandas as pd\n",
    "import os\n",
    "from PIL import Image"
   ],
   "metadata": {
    "collapsed": false,
    "ExecuteTime": {
     "end_time": "2023-11-21T16:28:20.779434Z",
     "start_time": "2023-11-21T16:28:20.775296Z"
    }
   },
   "id": "6bfcd26cc68744aa"
  },
  {
   "cell_type": "code",
   "execution_count": 75,
   "outputs": [],
   "source": [
    "#include the functions\n",
    "%run 'functions.ipynb'"
   ],
   "metadata": {
    "collapsed": false,
    "ExecuteTime": {
     "end_time": "2023-11-21T17:58:19.903936Z",
     "start_time": "2023-11-21T17:58:19.898821Z"
    }
   },
   "id": "f9d6c0a943c49eef"
  },
  {
   "cell_type": "code",
   "execution_count": 18,
   "outputs": [],
   "source": [
    "#image data directory\n",
    "data_dir = \"../data/asl_data/\"\n",
    "\n",
    "#directory for train and test\n",
    "train_dir = os.path.join(data_dir,\"asl_alphabet_train\")\n",
    "test_dir = os.path.join(data_dir,\"asl_alphabet_test\")"
   ],
   "metadata": {
    "collapsed": false,
    "ExecuteTime": {
     "end_time": "2023-11-21T16:51:49.214982Z",
     "start_time": "2023-11-21T16:51:49.093760Z"
    }
   },
   "id": "bc42685aad728206"
  },
  {
   "cell_type": "code",
   "execution_count": null,
   "outputs": [],
   "source": [
    "#test load and show one image\n",
    "image_try = os.path.join(train_dir,\"A/A1.jpg\")\n",
    "try_show_image = Image.open(image_try)\n",
    "try_show_image.show() ##worked in a pop-up window"
   ],
   "metadata": {
    "collapsed": false
   },
   "id": "e97b523afb7cd696"
  },
  {
   "cell_type": "code",
   "execution_count": 59,
   "outputs": [],
   "source": [
    "#class dictionary\n",
    "categories = {  0: \"A\",\n",
    "                1: \"B\",\n",
    "                2: \"C\",\n",
    "                3: \"D\",\n",
    "                4: \"E\",\n",
    "                5: \"F\",\n",
    "                6: \"G\",\n",
    "                7: \"H\",\n",
    "                8: \"I\",\n",
    "                9: \"G\",\n",
    "                10: \"K\",\n",
    "                11: \"L\",\n",
    "                12: \"M\",\n",
    "                13: \"N\",\n",
    "                14: \"O\",\n",
    "                15: \"P\",\n",
    "                16: \"Q\",\n",
    "                17: \"R\",\n",
    "                18: \"S\",\n",
    "                19: \"T\",\n",
    "                20: \"U\",\n",
    "                21: \"V\",\n",
    "                22: \"W\",\n",
    "                23: \"X\",\n",
    "                24: \"Y\",\n",
    "            }"
   ],
   "metadata": {
    "collapsed": false,
    "ExecuteTime": {
     "end_time": "2023-11-21T17:34:44.455370Z",
     "start_time": "2023-11-21T17:34:44.450213Z"
    }
   },
   "id": "e400c3df7d695edc"
  },
  {
   "cell_type": "code",
   "execution_count": 86,
   "outputs": [],
   "source": [
    "#create lists\n",
    "images = [] ##image names\n",
    "target = [] ##corresponding classes\n",
    "for category in categories:\n",
    "    files = os.listdir(os.path.join(train_dir, categories[category]))\n",
    "    for file in files:\n",
    "        file_path = os.path.join(train_dir, categories[category], file)\n",
    "        images.append(file_path)\n",
    "        target.append(category)\n",
    "df = pd.DataFrame({\"filename\": images, \"category\": target})\n",
    "\n",
    "#shuffle the dataframe\n",
    "shuffled_df = df.sample(frac=1).reset_index(drop=True)"
   ],
   "metadata": {
    "collapsed": false,
    "ExecuteTime": {
     "end_time": "2023-11-21T18:08:20.961788Z",
     "start_time": "2023-11-21T18:08:20.835072Z"
    }
   },
   "id": "9423affbcb0c8aa6"
  },
  {
   "cell_type": "code",
   "execution_count": 87,
   "outputs": [
    {
     "name": "stdout",
     "output_type": "stream",
     "text": [
      "<class 'pandas.core.frame.DataFrame'>\n",
      "RangeIndex: 75000 entries, 0 to 74999\n",
      "Data columns (total 2 columns):\n",
      " #   Column    Non-Null Count  Dtype \n",
      "---  ------    --------------  ----- \n",
      " 0   filename  75000 non-null  object\n",
      " 1   category  75000 non-null  int64 \n",
      "dtypes: int64(1), object(1)\n",
      "memory usage: 1.1+ MB\n"
     ]
    },
    {
     "data": {
      "text/plain": "                                          filename  category\n0    ../data/asl_data/asl_alphabet_train/A/A25.jpg         0\n1  ../data/asl_data/asl_alphabet_train/A/A2286.jpg         0\n2  ../data/asl_data/asl_alphabet_train/A/A1957.jpg         0\n3   ../data/asl_data/asl_alphabet_train/A/A618.jpg         0\n4  ../data/asl_data/asl_alphabet_train/A/A1943.jpg         0",
      "text/html": "<div>\n<style scoped>\n    .dataframe tbody tr th:only-of-type {\n        vertical-align: middle;\n    }\n\n    .dataframe tbody tr th {\n        vertical-align: top;\n    }\n\n    .dataframe thead th {\n        text-align: right;\n    }\n</style>\n<table border=\"1\" class=\"dataframe\">\n  <thead>\n    <tr style=\"text-align: right;\">\n      <th></th>\n      <th>filename</th>\n      <th>category</th>\n    </tr>\n  </thead>\n  <tbody>\n    <tr>\n      <th>0</th>\n      <td>../data/asl_data/asl_alphabet_train/A/A25.jpg</td>\n      <td>0</td>\n    </tr>\n    <tr>\n      <th>1</th>\n      <td>../data/asl_data/asl_alphabet_train/A/A2286.jpg</td>\n      <td>0</td>\n    </tr>\n    <tr>\n      <th>2</th>\n      <td>../data/asl_data/asl_alphabet_train/A/A1957.jpg</td>\n      <td>0</td>\n    </tr>\n    <tr>\n      <th>3</th>\n      <td>../data/asl_data/asl_alphabet_train/A/A618.jpg</td>\n      <td>0</td>\n    </tr>\n    <tr>\n      <th>4</th>\n      <td>../data/asl_data/asl_alphabet_train/A/A1943.jpg</td>\n      <td>0</td>\n    </tr>\n  </tbody>\n</table>\n</div>"
     },
     "execution_count": 87,
     "metadata": {},
     "output_type": "execute_result"
    }
   ],
   "source": [
    "df.info()\n",
    "df.head()"
   ],
   "metadata": {
    "collapsed": false,
    "ExecuteTime": {
     "end_time": "2023-11-21T18:08:21.699828Z",
     "start_time": "2023-11-21T18:08:21.687050Z"
    }
   },
   "id": "8953b28a7c459a63"
  },
  {
   "cell_type": "code",
   "execution_count": 88,
   "outputs": [
    {
     "name": "stdout",
     "output_type": "stream",
     "text": [
      "<class 'pandas.core.frame.DataFrame'>\n",
      "RangeIndex: 75000 entries, 0 to 74999\n",
      "Data columns (total 2 columns):\n",
      " #   Column    Non-Null Count  Dtype \n",
      "---  ------    --------------  ----- \n",
      " 0   filename  75000 non-null  object\n",
      " 1   category  75000 non-null  int64 \n",
      "dtypes: int64(1), object(1)\n",
      "memory usage: 1.1+ MB\n"
     ]
    },
    {
     "data": {
      "text/plain": "                                          filename  category\n0   ../data/asl_data/asl_alphabet_train/W/W583.jpg        22\n1  ../data/asl_data/asl_alphabet_train/U/U1816.jpg        20\n2   ../data/asl_data/asl_alphabet_train/I/I466.jpg         8\n3  ../data/asl_data/asl_alphabet_train/N/N2701.jpg        13\n4  ../data/asl_data/asl_alphabet_train/D/D1586.jpg         3",
      "text/html": "<div>\n<style scoped>\n    .dataframe tbody tr th:only-of-type {\n        vertical-align: middle;\n    }\n\n    .dataframe tbody tr th {\n        vertical-align: top;\n    }\n\n    .dataframe thead th {\n        text-align: right;\n    }\n</style>\n<table border=\"1\" class=\"dataframe\">\n  <thead>\n    <tr style=\"text-align: right;\">\n      <th></th>\n      <th>filename</th>\n      <th>category</th>\n    </tr>\n  </thead>\n  <tbody>\n    <tr>\n      <th>0</th>\n      <td>../data/asl_data/asl_alphabet_train/W/W583.jpg</td>\n      <td>22</td>\n    </tr>\n    <tr>\n      <th>1</th>\n      <td>../data/asl_data/asl_alphabet_train/U/U1816.jpg</td>\n      <td>20</td>\n    </tr>\n    <tr>\n      <th>2</th>\n      <td>../data/asl_data/asl_alphabet_train/I/I466.jpg</td>\n      <td>8</td>\n    </tr>\n    <tr>\n      <th>3</th>\n      <td>../data/asl_data/asl_alphabet_train/N/N2701.jpg</td>\n      <td>13</td>\n    </tr>\n    <tr>\n      <th>4</th>\n      <td>../data/asl_data/asl_alphabet_train/D/D1586.jpg</td>\n      <td>3</td>\n    </tr>\n  </tbody>\n</table>\n</div>"
     },
     "execution_count": 88,
     "metadata": {},
     "output_type": "execute_result"
    }
   ],
   "source": [
    "shuffled_df.info()\n",
    "shuffled_df.head()"
   ],
   "metadata": {
    "collapsed": false,
    "ExecuteTime": {
     "end_time": "2023-11-21T18:08:22.793278Z",
     "start_time": "2023-11-21T18:08:22.782401Z"
    }
   },
   "id": "c27dd2394f5238e7"
  },
  {
   "cell_type": "code",
   "execution_count": 89,
   "outputs": [
    {
     "name": "stderr",
     "output_type": "stream",
     "text": [
      "/Users/ygao/.local/share/virtualenvs/untitled_folder-0Tc94yBB/lib/python3.9/site-packages/numpy/core/fromnumeric.py:59: FutureWarning: 'DataFrame.swapaxes' is deprecated and will be removed in a future version. Please use 'DataFrame.transpose' instead.\n",
      "  return bound(*args, **kwds)\n"
     ]
    }
   ],
   "source": [
    "#split into 5 subsets for future cross validation\n",
    "split_data = np.array_split(shuffled_df, 5)\n",
    "sub_df1, sub_df2, sub_df3, sub_df4, sub_df5 = split_data"
   ],
   "metadata": {
    "collapsed": false,
    "ExecuteTime": {
     "end_time": "2023-11-21T18:08:26.501529Z",
     "start_time": "2023-11-21T18:08:26.491744Z"
    }
   },
   "id": "8bf5ed7582e3cd64"
  },
  {
   "cell_type": "code",
   "execution_count": 90,
   "outputs": [
    {
     "name": "stdout",
     "output_type": "stream",
     "text": [
      "<class 'pandas.core.frame.DataFrame'>\n",
      "RangeIndex: 15000 entries, 60000 to 74999\n",
      "Data columns (total 2 columns):\n",
      " #   Column    Non-Null Count  Dtype \n",
      "---  ------    --------------  ----- \n",
      " 0   filename  15000 non-null  object\n",
      " 1   category  15000 non-null  int64 \n",
      "dtypes: int64(1), object(1)\n",
      "memory usage: 234.5+ KB\n"
     ]
    },
    {
     "data": {
      "text/plain": "                                              filename  category\n60000  ../data/asl_data/asl_alphabet_train/K/K2447.jpg        10\n60001  ../data/asl_data/asl_alphabet_train/H/H2081.jpg         7\n60002  ../data/asl_data/asl_alphabet_train/W/W1838.jpg        22\n60003  ../data/asl_data/asl_alphabet_train/P/P2995.jpg        15\n60004   ../data/asl_data/asl_alphabet_train/G/G504.jpg         9",
      "text/html": "<div>\n<style scoped>\n    .dataframe tbody tr th:only-of-type {\n        vertical-align: middle;\n    }\n\n    .dataframe tbody tr th {\n        vertical-align: top;\n    }\n\n    .dataframe thead th {\n        text-align: right;\n    }\n</style>\n<table border=\"1\" class=\"dataframe\">\n  <thead>\n    <tr style=\"text-align: right;\">\n      <th></th>\n      <th>filename</th>\n      <th>category</th>\n    </tr>\n  </thead>\n  <tbody>\n    <tr>\n      <th>60000</th>\n      <td>../data/asl_data/asl_alphabet_train/K/K2447.jpg</td>\n      <td>10</td>\n    </tr>\n    <tr>\n      <th>60001</th>\n      <td>../data/asl_data/asl_alphabet_train/H/H2081.jpg</td>\n      <td>7</td>\n    </tr>\n    <tr>\n      <th>60002</th>\n      <td>../data/asl_data/asl_alphabet_train/W/W1838.jpg</td>\n      <td>22</td>\n    </tr>\n    <tr>\n      <th>60003</th>\n      <td>../data/asl_data/asl_alphabet_train/P/P2995.jpg</td>\n      <td>15</td>\n    </tr>\n    <tr>\n      <th>60004</th>\n      <td>../data/asl_data/asl_alphabet_train/G/G504.jpg</td>\n      <td>9</td>\n    </tr>\n  </tbody>\n</table>\n</div>"
     },
     "execution_count": 90,
     "metadata": {},
     "output_type": "execute_result"
    }
   ],
   "source": [
    "sub_df5.info()\n",
    "sub_df5.head()"
   ],
   "metadata": {
    "collapsed": false,
    "ExecuteTime": {
     "end_time": "2023-11-21T18:08:28.367313Z",
     "start_time": "2023-11-21T18:08:28.361536Z"
    }
   },
   "id": "acd986781155c1a2"
  },
  {
   "cell_type": "code",
   "execution_count": 91,
   "outputs": [],
   "source": [
    "sub_df5['greyscale'] = sub_df5['filename'].apply(image_to_grey_array)"
   ],
   "metadata": {
    "collapsed": false,
    "ExecuteTime": {
     "end_time": "2023-11-21T18:08:39.972668Z",
     "start_time": "2023-11-21T18:08:31.974572Z"
    }
   },
   "id": "2a5c83078e54f903"
  },
  {
   "cell_type": "code",
   "execution_count": 92,
   "outputs": [
    {
     "data": {
      "text/plain": "                                              filename  category  \\\n60000  ../data/asl_data/asl_alphabet_train/K/K2447.jpg        10   \n60001  ../data/asl_data/asl_alphabet_train/H/H2081.jpg         7   \n60002  ../data/asl_data/asl_alphabet_train/W/W1838.jpg        22   \n60003  ../data/asl_data/asl_alphabet_train/P/P2995.jpg        15   \n60004   ../data/asl_data/asl_alphabet_train/G/G504.jpg         9   \n\n                                               greyscale  \n60000  [[31, 33, 29, 29, 28, 30, 28, 30, 29, 29, 29, ...  \n60001  [[29, 29, 31, 31, 29, 28, 30, 30, 29, 29, 29, ...  \n60002  [[31, 31, 28, 29, 31, 29, 28, 28, 29, 29, 29, ...  \n60003  [[33, 29, 30, 30, 28, 31, 28, 29, 29, 29, 29, ...  \n60004  [[30, 31, 28, 29, 31, 27, 31, 28, 28, 29, 29, ...  ",
      "text/html": "<div>\n<style scoped>\n    .dataframe tbody tr th:only-of-type {\n        vertical-align: middle;\n    }\n\n    .dataframe tbody tr th {\n        vertical-align: top;\n    }\n\n    .dataframe thead th {\n        text-align: right;\n    }\n</style>\n<table border=\"1\" class=\"dataframe\">\n  <thead>\n    <tr style=\"text-align: right;\">\n      <th></th>\n      <th>filename</th>\n      <th>category</th>\n      <th>greyscale</th>\n    </tr>\n  </thead>\n  <tbody>\n    <tr>\n      <th>60000</th>\n      <td>../data/asl_data/asl_alphabet_train/K/K2447.jpg</td>\n      <td>10</td>\n      <td>[[31, 33, 29, 29, 28, 30, 28, 30, 29, 29, 29, ...</td>\n    </tr>\n    <tr>\n      <th>60001</th>\n      <td>../data/asl_data/asl_alphabet_train/H/H2081.jpg</td>\n      <td>7</td>\n      <td>[[29, 29, 31, 31, 29, 28, 30, 30, 29, 29, 29, ...</td>\n    </tr>\n    <tr>\n      <th>60002</th>\n      <td>../data/asl_data/asl_alphabet_train/W/W1838.jpg</td>\n      <td>22</td>\n      <td>[[31, 31, 28, 29, 31, 29, 28, 28, 29, 29, 29, ...</td>\n    </tr>\n    <tr>\n      <th>60003</th>\n      <td>../data/asl_data/asl_alphabet_train/P/P2995.jpg</td>\n      <td>15</td>\n      <td>[[33, 29, 30, 30, 28, 31, 28, 29, 29, 29, 29, ...</td>\n    </tr>\n    <tr>\n      <th>60004</th>\n      <td>../data/asl_data/asl_alphabet_train/G/G504.jpg</td>\n      <td>9</td>\n      <td>[[30, 31, 28, 29, 31, 27, 31, 28, 28, 29, 29, ...</td>\n    </tr>\n  </tbody>\n</table>\n</div>"
     },
     "execution_count": 92,
     "metadata": {},
     "output_type": "execute_result"
    }
   ],
   "source": [
    "sub_df5.head()"
   ],
   "metadata": {
    "collapsed": false,
    "ExecuteTime": {
     "end_time": "2023-11-21T18:08:57.089652Z",
     "start_time": "2023-11-21T18:08:56.918637Z"
    }
   },
   "id": "5dc126f2ba20d07f"
  },
  {
   "cell_type": "code",
   "execution_count": null,
   "outputs": [],
   "source": [],
   "metadata": {
    "collapsed": false
   },
   "id": "5cca80b09359cec2"
  }
 ],
 "metadata": {
  "kernelspec": {
   "name": "mlp_uf_py3_9",
   "language": "python",
   "display_name": "mlp_uf_py3_9"
  },
  "language_info": {
   "codemirror_mode": {
    "name": "ipython",
    "version": 2
   },
   "file_extension": ".py",
   "mimetype": "text/x-python",
   "name": "python",
   "nbconvert_exporter": "python",
   "pygments_lexer": "ipython2",
   "version": "2.7.6"
  }
 },
 "nbformat": 4,
 "nbformat_minor": 5
}
