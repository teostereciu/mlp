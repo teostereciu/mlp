{
 "cells": [
  {
   "cell_type": "markdown",
   "source": [
    "See if things are configured correctly"
   ],
   "metadata": {
    "collapsed": false
   },
   "id": "66adba4dc4d25f3d"
  },
  {
   "cell_type": "code",
   "execution_count": 1,
   "outputs": [
    {
     "name": "stdout",
     "output_type": "stream",
     "text": [
      "Hello, World!\n"
     ]
    }
   ],
   "source": [
    "# seems like it's printing\n",
    "print(\"Hello, World!\")"
   ],
   "metadata": {
    "collapsed": false,
    "ExecuteTime": {
     "end_time": "2023-11-21T16:01:37.390341Z",
     "start_time": "2023-11-21T16:01:37.387728Z"
    }
   },
   "id": "e62151f3bf6ca078"
  },
  {
   "cell_type": "code",
   "execution_count": 2,
   "outputs": [],
   "source": [
    "import numpy as np\n",
    "import pandas as pd\n",
    "import os\n",
    "from PIL import Image"
   ],
   "metadata": {
    "collapsed": false,
    "ExecuteTime": {
     "end_time": "2023-11-21T16:07:14.253266Z",
     "start_time": "2023-11-21T16:07:14.032621Z"
    }
   },
   "id": "6bfcd26cc68744aa"
  },
  {
   "cell_type": "code",
   "execution_count": null,
   "outputs": [],
   "source": [],
   "metadata": {
    "collapsed": false
   },
   "id": "bc42685aad728206"
  }
 ],
 "metadata": {
  "kernelspec": {
   "name": "mlp_uf_py3_9",
   "language": "python",
   "display_name": "mlp_uf_py3_9"
  },
  "language_info": {
   "codemirror_mode": {
    "name": "ipython",
    "version": 2
   },
   "file_extension": ".py",
   "mimetype": "text/x-python",
   "name": "python",
   "nbconvert_exporter": "python",
   "pygments_lexer": "ipython2",
   "version": "2.7.6"
  }
 },
 "nbformat": 4,
 "nbformat_minor": 5
}
